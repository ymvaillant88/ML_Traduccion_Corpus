{
 "cells": [
  {
   "cell_type": "code",
   "execution_count": 43,
   "metadata": {},
   "outputs": [],
   "source": [
    "import pandas as pd\n",
    "import numpy as np\n",
    "import pickle\n",
    "\n",
    "from sklearn.model_selection import train_test_split\n",
    "\n",
    "import tensorflow as tf\n",
    "from tensorflow.keras.preprocessing.text import Tokenizer\n",
    "from tensorflow.keras.preprocessing.sequence import pad_sequences\n",
    "\n",
    "# importar callbacks\n",
    "from tensorflow.keras.callbacks import ModelCheckpoint\n",
    "# importar loadmodel\n",
    "from tensorflow.keras.models import load_model\n",
    "\n",
    "from tensorflow.keras.models import Sequential\n",
    "\n",
    "from tensorflow.keras.layers import Dense, Embedding, LSTM, RepeatVector, TimeDistributed, Dropout\n",
    "\n",
    "import matplotlib.pyplot as plt\n",
    "\n",
    "import nltk \n",
    "\n",
    "from nltk.translate.bleu_score import corpus_bleu,sentence_bleu\n",
    "\n"
   ]
  },
  {
   "cell_type": "code",
   "execution_count": 2,
   "metadata": {},
   "outputs": [
    {
     "data": {
      "text/html": [
       "<div>\n",
       "<style scoped>\n",
       "    .dataframe tbody tr th:only-of-type {\n",
       "        vertical-align: middle;\n",
       "    }\n",
       "\n",
       "    .dataframe tbody tr th {\n",
       "        vertical-align: top;\n",
       "    }\n",
       "\n",
       "    .dataframe thead th {\n",
       "        text-align: right;\n",
       "    }\n",
       "</style>\n",
       "<table border=\"1\" class=\"dataframe\">\n",
       "  <thead>\n",
       "    <tr style=\"text-align: right;\">\n",
       "      <th></th>\n",
       "      <th>source</th>\n",
       "      <th>target</th>\n",
       "      <th>preprocess_source</th>\n",
       "      <th>preprocess_target</th>\n",
       "    </tr>\n",
       "    <tr>\n",
       "      <th>id</th>\n",
       "      <th></th>\n",
       "      <th></th>\n",
       "      <th></th>\n",
       "      <th></th>\n",
       "    </tr>\n",
       "  </thead>\n",
       "  <tbody>\n",
       "    <tr>\n",
       "      <th>10151431</th>\n",
       "      <td>I always say that one of the most important th...</td>\n",
       "      <td>Siempre digo que una de las cosas más importan...</td>\n",
       "      <td>&lt;start&gt; i always say that one of the most impo...</td>\n",
       "      <td>&lt;start&gt; siempre digo que una de las cosas mas ...</td>\n",
       "    </tr>\n",
       "    <tr>\n",
       "      <th>5014881</th>\n",
       "      <td>Francis spent every night when he was outside ...</td>\n",
       "      <td>Francisco pasó todas las noches que estuvo fue...</td>\n",
       "      <td>&lt;start&gt; francis spent every night when he was ...</td>\n",
       "      <td>&lt;start&gt; francisco paso todas las noches que es...</td>\n",
       "    </tr>\n",
       "    <tr>\n",
       "      <th>9998244</th>\n",
       "      <td>Find Google- remove your Gmail account.</td>\n",
       "      <td>Encontrar Google- eliminar su cuenta de Gmail.</td>\n",
       "      <td>&lt;start&gt; find google remove your gmail account ...</td>\n",
       "      <td>&lt;start&gt; encontrar google eliminar su cuenta de...</td>\n",
       "    </tr>\n",
       "    <tr>\n",
       "      <th>11709695</th>\n",
       "      <td>Anyways, apart from that the movie was finalized.</td>\n",
       "      <td>De todos modos, aparte de eso, la película fue...</td>\n",
       "      <td>&lt;start&gt; anyways apart from that the movie was ...</td>\n",
       "      <td>&lt;start&gt; de todos modos aparte de eso la pelicu...</td>\n",
       "    </tr>\n",
       "    <tr>\n",
       "      <th>5267593</th>\n",
       "      <td>Graphics Programming Black Book and the mindse...</td>\n",
       "      <td>El Libro Negro de la Programación Gráfica y la...</td>\n",
       "      <td>&lt;start&gt; graphics programming black book and th...</td>\n",
       "      <td>&lt;start&gt; el libro negro de la programacion graf...</td>\n",
       "    </tr>\n",
       "  </tbody>\n",
       "</table>\n",
       "</div>"
      ],
      "text/plain": [
       "                                                     source   \n",
       "id                                                            \n",
       "10151431  I always say that one of the most important th...  \\\n",
       "5014881   Francis spent every night when he was outside ...   \n",
       "9998244             Find Google- remove your Gmail account.   \n",
       "11709695  Anyways, apart from that the movie was finalized.   \n",
       "5267593   Graphics Programming Black Book and the mindse...   \n",
       "\n",
       "                                                     target   \n",
       "id                                                            \n",
       "10151431  Siempre digo que una de las cosas más importan...  \\\n",
       "5014881   Francisco pasó todas las noches que estuvo fue...   \n",
       "9998244      Encontrar Google- eliminar su cuenta de Gmail.   \n",
       "11709695  De todos modos, aparte de eso, la película fue...   \n",
       "5267593   El Libro Negro de la Programación Gráfica y la...   \n",
       "\n",
       "                                          preprocess_source   \n",
       "id                                                            \n",
       "10151431  <start> i always say that one of the most impo...  \\\n",
       "5014881   <start> francis spent every night when he was ...   \n",
       "9998244   <start> find google remove your gmail account ...   \n",
       "11709695  <start> anyways apart from that the movie was ...   \n",
       "5267593   <start> graphics programming black book and th...   \n",
       "\n",
       "                                          preprocess_target  \n",
       "id                                                           \n",
       "10151431  <start> siempre digo que una de las cosas mas ...  \n",
       "5014881   <start> francisco paso todas las noches que es...  \n",
       "9998244   <start> encontrar google eliminar su cuenta de...  \n",
       "11709695  <start> de todos modos aparte de eso la pelicu...  \n",
       "5267593   <start> el libro negro de la programacion graf...  "
      ]
     },
     "execution_count": 2,
     "metadata": {},
     "output_type": "execute_result"
    }
   ],
   "source": [
    "# Importar archivo .csv\n",
    "df = pd.read_csv('../File/df_corpus_linguistico_preprocesado.csv',\n",
    "                 sep='\\t', encoding='utf-8', index_col=0)\n",
    "df.head()\n"
   ]
  },
  {
   "cell_type": "code",
   "execution_count": 3,
   "metadata": {},
   "outputs": [
    {
     "data": {
      "text/plain": [
       "(100000, 4)"
      ]
     },
     "execution_count": 3,
     "metadata": {},
     "output_type": "execute_result"
    }
   ],
   "source": [
    "df.shape"
   ]
  },
  {
   "cell_type": "code",
   "execution_count": 4,
   "metadata": {},
   "outputs": [],
   "source": [
    "en_text = df['preprocess_source']\n",
    "es_text = df['preprocess_target']\n"
   ]
  },
  {
   "attachments": {},
   "cell_type": "markdown",
   "metadata": {},
   "source": [
    "# Tokenizar frases\n"
   ]
  },
  {
   "cell_type": "code",
   "execution_count": 5,
   "metadata": {},
   "outputs": [],
   "source": [
    "# Función para tokenizar el texto\n",
    "def tokenization(lines):\n",
    "    tokenizer = Tokenizer(num_words=10000)              \n",
    "    tokenizer.fit_on_texts(lines)\n",
    "    return tokenizer\n"
   ]
  },
  {
   "cell_type": "code",
   "execution_count": 6,
   "metadata": {},
   "outputs": [
    {
     "name": "stdout",
     "output_type": "stream",
     "text": [
      "English Vocabulary Size: 43725\n",
      "English Max Length: 108\n"
     ]
    }
   ],
   "source": [
    "# Tokenizar el texto en inglés\n",
    "en_tokenizer = tokenization(en_text)                   # num_words=10000 -> 10.000 palabras más frecuentes del corpus de inglés (source)\n",
    "en_vocab_size = len(en_tokenizer.word_index) + 1\n",
    "\n",
    "en_length = max(len(line.split()) for line in en_text)\n",
    "print(f'English Vocabulary Size: {en_vocab_size}')\n",
    "print(f'English Max Length: {en_length}')\n"
   ]
  },
  {
   "cell_type": "code",
   "execution_count": 7,
   "metadata": {},
   "outputs": [
    {
     "name": "stdout",
     "output_type": "stream",
     "text": [
      "Spanish Vocabulary Size: 56158\n",
      "Spanish Max Length: 109\n"
     ]
    }
   ],
   "source": [
    "# Tokenizar el texto en español\n",
    "es_tokenizer = tokenization(es_text)                   # num_words=10000 -> 10.000 palabras más frecuentes del corpus de español (target\n",
    "es_vocab_size = len(es_tokenizer.word_index) + 1\n",
    "\n",
    "es_length = max(len(line.split()) for line in es_text)\n",
    "print(f'Spanish Vocabulary Size: {es_vocab_size}')\n",
    "print(f'Spanish Max Length: {es_length}')"
   ]
  },
  {
   "attachments": {},
   "cell_type": "markdown",
   "metadata": {},
   "source": [
    "## Gráfica de distribución de longitud de las frases"
   ]
  },
  {
   "cell_type": "code",
   "execution_count": 8,
   "metadata": {},
   "outputs": [
    {
     "data": {
      "image/png": "[encoded data removed]",
      "text/plain": [
       "<Figure size 640x480 with 1 Axes>"
      ]
     },
     "metadata": {},
     "output_type": "display_data"
    },
    {
     "data": {
      "image/png": "[encoded data removed]",
      "text/plain": [
       "<Figure size 640x480 with 1 Axes>"
      ]
     },
     "metadata": {},
     "output_type": "display_data"
    }
   ],
   "source": [
    "# Gráfica de distribución de longitud de las frases\n",
    "\n",
    "\n",
    "length_en_text = [len(line.split()) for line in en_text]\n",
    "length_es_text = [len(line.split()) for line in es_text]\n",
    "\n",
    "plt.hist(length_en_text, bins=30)\n",
    "# Etiquetas\n",
    "plt.xlabel('Length of Source Text')\n",
    "plt.ylabel('Number of Source Text')\n",
    "plt.title('Source Text Length Distribution')\n",
    "plt.show()\n",
    "\n",
    "plt.hist(length_es_text, bins=30)\n",
    "# Etiquetas\n",
    "plt.xlabel('Length of Target Text')\n",
    "plt.ylabel('Number of Target Text')\n",
    "plt.title('Target Text Length Distribution')\n",
    "plt.show()\n",
    "\n"
   ]
  },
  {
   "attachments": {},
   "cell_type": "markdown",
   "metadata": {},
   "source": [
    "Nota: \n",
    "Luego de representar gráficamente la distribución de la longitud de las frases, se observa una distribución sesgada hacia la derecha, por lo que se procede a truncar las frases a un máximo de 40 palabras."
   ]
  },
  {
   "cell_type": "code",
   "execution_count": 9,
   "metadata": {},
   "outputs": [],
   "source": [
    "en_length = 40\n",
    "es_length = 40"
   ]
  },
  {
   "attachments": {},
   "cell_type": "markdown",
   "metadata": {},
   "source": [
    "## Gráfico con el total de palabras únicas de cada idioma en el corpus "
   ]
  },
  {
   "cell_type": "code",
   "execution_count": 10,
   "metadata": {},
   "outputs": [
    {
     "data": {
      "image/png": "[encoded data removed]",
      "text/plain": [
       "<Figure size 640x480 with 1 Axes>"
      ]
     },
     "metadata": {},
     "output_type": "display_data"
    }
   ],
   "source": [
    "\n",
    "plt.bar(['English', 'Spanish'], [en_vocab_size, es_vocab_size])\n",
    "# Etiquetas\n",
    "plt.xlabel('Language')\n",
    "plt.ylabel('Unique Words')\n",
    "plt.title('Number of Unique Words in the Corpus')\n",
    "\n",
    "plt.show()"
   ]
  },
  {
   "attachments": {},
   "cell_type": "markdown",
   "metadata": {},
   "source": [
    "Nota: \n",
    "Se puede observar que el número de palabras únicas en el corpus asciende a más de 40.000 palabras en ambos idiomas. Se decide tomar las 10.000 palabras más frecuentes en el corpus para reducir el tamaño del vocabulario y mejorar el rendimiento del modelo.\n"
   ]
  },
  {
   "attachments": {},
   "cell_type": "markdown",
   "metadata": {},
   "source": [
    "## Codificar secuencias de texto a entero"
   ]
  },
  {
   "cell_type": "code",
   "execution_count": 11,
   "metadata": {},
   "outputs": [],
   "source": [
    "\n",
    "def encode_sequences(tokenizer, length, lines):\n",
    "    # Entrenar el modelo de codificación\n",
    "    seq = tokenizer.texts_to_sequences(lines)\n",
    "    # Rellenar las secuencias con 0's para que tengan la misma longitud\n",
    "    seq = pad_sequences(seq, maxlen=length, padding='post')\n",
    "    return seq\n"
   ]
  },
  {
   "cell_type": "code",
   "execution_count": 12,
   "metadata": {},
   "outputs": [],
   "source": [
    "# Dividir el dataset en train y test\n",
    "\n",
    "train, test = train_test_split(df, test_size=0.2, random_state=42)\n"
   ]
  },
  {
   "cell_type": "code",
   "execution_count": 13,
   "metadata": {},
   "outputs": [],
   "source": [
    "# Codificar el texto en inglés\n",
    "trainX = encode_sequences(en_tokenizer, en_length, train['preprocess_source'])\n",
    "testX = encode_sequences(en_tokenizer, en_length, test['preprocess_source'])\n",
    "\n",
    "# Codificar el texto en español\n",
    "trainY = encode_sequences(es_tokenizer, es_length, train['preprocess_target'])\n",
    "testY = encode_sequences(es_tokenizer, es_length, test['preprocess_target'])\n"
   ]
  },
  {
   "attachments": {},
   "cell_type": "markdown",
   "metadata": {},
   "source": [
    "## Definir el modelo"
   ]
  },
  {
   "cell_type": "code",
   "execution_count": 14,
   "metadata": {},
   "outputs": [],
   "source": [
    "# Definir el modelo\n",
    "def define_model(in_vocab, out_vocab, in_timesteps, out_timesteps, units):\n",
    "    model = Sequential()\n",
    "    model.add(Embedding(in_vocab, units,\n",
    "              input_length=in_timesteps, mask_zero=True))\n",
    "    model.add(LSTM(units))\n",
    "    model.add(Dropout(0.2))\n",
    "    model.add(RepeatVector(out_timesteps))\n",
    "    model.add(LSTM(units, return_sequences=True))\n",
    "    model.add(TimeDistributed(Dense(out_vocab, activation='softmax')))\n",
    "    return model\n"
   ]
  },
  {
   "cell_type": "code",
   "execution_count": 15,
   "metadata": {},
   "outputs": [],
   "source": [
    "en_vocab_size = 10000\n",
    "es_vocab_size = 10000"
   ]
  },
  {
   "cell_type": "code",
   "execution_count": 16,
   "metadata": {},
   "outputs": [],
   "source": [
    "\n",
    "model = define_model(en_vocab_size, es_vocab_size, en_length, es_length, 128)\n"
   ]
  },
  {
   "cell_type": "code",
   "execution_count": 17,
   "metadata": {},
   "outputs": [
    {
     "name": "stdout",
     "output_type": "stream",
     "text": [
      "Model: \"sequential\"\n",
      "_________________________________________________________________\n",
      " Layer (type)                Output Shape              Param #   \n",
      "=================================================================\n",
      " embedding (Embedding)       (None, 40, 128)           1280000   \n",
      "                                                                 \n",
      " lstm (LSTM)                 (None, 128)               131584    \n",
      "                                                                 \n",
      " dropout (Dropout)           (None, 128)               0         \n",
      "                                                                 \n",
      " repeat_vector (RepeatVector  (None, 40, 128)          0         \n",
      " )                                                               \n",
      "                                                                 \n",
      " lstm_1 (LSTM)               (None, 40, 128)           131584    \n",
      "                                                                 \n",
      " time_distributed (TimeDistr  (None, 40, 10000)        1290000   \n",
      " ibuted)                                                         \n",
      "                                                                 \n",
      "=================================================================\n",
      "Total params: 2,833,168\n",
      "Trainable params: 2,833,168\n",
      "Non-trainable params: 0\n",
      "_________________________________________________________________\n",
      "None\n"
     ]
    }
   ],
   "source": [
    "\n",
    "model.compile(optimizer= 'adam', loss='sparse_categorical_crossentropy', metrics=['accuracy'])\n",
    "\n",
    "# Resumen del modelo\n",
    "print(model.summary())\n"
   ]
  },
  {
   "cell_type": "code",
   "execution_count": null,
   "metadata": {},
   "outputs": [],
   "source": [
    "# Embeding (None, 40, 128): significa que tenemos 40 palabras de entrada y 128 dimensiones de salida\n",
    "# LSTM (None, 128): significa que tenemos 128 dimensiones de salida\n",
    "# RepeatVector (None, 40, 128): significa que tenemos 40 palabras de salida y 128 dimensiones de salida\n"
   ]
  },
  {
   "cell_type": "code",
   "execution_count": 29,
   "metadata": {},
   "outputs": [
    {
     "name": "stdout",
     "output_type": "stream",
     "text": [
      "Epoch 1/15\n",
      "313/313 [==============================] - ETA: 0s - loss: 1.8697 - accuracy: 0.7064\n",
      "Epoch 1: val_loss improved from inf to 1.98027, saving model to ../File/Model/model151S.h5\n",
      "313/313 [==============================] - 591s 2s/step - loss: 1.8697 - accuracy: 0.7064 - val_loss: 1.9803 - val_accuracy: 0.6935\n",
      "Epoch 2/15\n",
      "313/313 [==============================] - ETA: 0s - loss: 1.8460 - accuracy: 0.7081\n",
      "Epoch 2: val_loss improved from 1.98027 to 1.96235, saving model to ../File/Model/model151S.h5\n",
      "313/313 [==============================] - 600s 2s/step - loss: 1.8460 - accuracy: 0.7081 - val_loss: 1.9624 - val_accuracy: 0.6936\n",
      "Epoch 3/15\n",
      "313/313 [==============================] - ETA: 0s - loss: 1.8237 - accuracy: 0.7094\n",
      "Epoch 3: val_loss improved from 1.96235 to 1.95099, saving model to ../File/Model/model151S.h5\n",
      "313/313 [==============================] - 621s 2s/step - loss: 1.8237 - accuracy: 0.7094 - val_loss: 1.9510 - val_accuracy: 0.6928\n",
      "Epoch 4/15\n",
      "313/313 [==============================] - ETA: 0s - loss: 1.8025 - accuracy: 0.7109\n",
      "Epoch 4: val_loss improved from 1.95099 to 1.93780, saving model to ../File/Model/model151S.h5\n",
      "313/313 [==============================] - 1062s 3s/step - loss: 1.8025 - accuracy: 0.7109 - val_loss: 1.9378 - val_accuracy: 0.6945\n",
      "Epoch 5/15\n",
      "313/313 [==============================] - ETA: 0s - loss: 1.7810 - accuracy: 0.7125\n",
      "Epoch 5: val_loss improved from 1.93780 to 1.93008, saving model to ../File/Model/model151S.h5\n",
      "313/313 [==============================] - 542s 2s/step - loss: 1.7810 - accuracy: 0.7125 - val_loss: 1.9301 - val_accuracy: 0.6949\n",
      "Epoch 6/15\n",
      "313/313 [==============================] - ETA: 0s - loss: 1.7596 - accuracy: 0.7141\n",
      "Epoch 6: val_loss improved from 1.93008 to 1.91663, saving model to ../File/Model/model151S.h5\n",
      "313/313 [==============================] - 740s 2s/step - loss: 1.7596 - accuracy: 0.7141 - val_loss: 1.9166 - val_accuracy: 0.6939\n",
      "Epoch 7/15\n",
      "313/313 [==============================] - ETA: 0s - loss: 1.7394 - accuracy: 0.7153\n",
      "Epoch 7: val_loss improved from 1.91663 to 1.90554, saving model to ../File/Model/model151S.h5\n",
      "313/313 [==============================] - 674s 2s/step - loss: 1.7394 - accuracy: 0.7153 - val_loss: 1.9055 - val_accuracy: 0.6969\n",
      "Epoch 8/15\n",
      "313/313 [==============================] - ETA: 0s - loss: 1.7186 - accuracy: 0.7168\n",
      "Epoch 8: val_loss improved from 1.90554 to 1.89130, saving model to ../File/Model/model151S.h5\n",
      "313/313 [==============================] - 651s 2s/step - loss: 1.7186 - accuracy: 0.7168 - val_loss: 1.8913 - val_accuracy: 0.7009\n",
      "Epoch 9/15\n",
      "313/313 [==============================] - ETA: 0s - loss: 1.7003 - accuracy: 0.7179\n",
      "Epoch 9: val_loss improved from 1.89130 to 1.87773, saving model to ../File/Model/model151S.h5\n",
      "313/313 [==============================] - 661s 2s/step - loss: 1.7003 - accuracy: 0.7179 - val_loss: 1.8777 - val_accuracy: 0.7005\n",
      "Epoch 10/15\n",
      "313/313 [==============================] - ETA: 0s - loss: 1.6808 - accuracy: 0.7192\n",
      "Epoch 10: val_loss improved from 1.87773 to 1.87012, saving model to ../File/Model/model151S.h5\n",
      "313/313 [==============================] - 598s 2s/step - loss: 1.6808 - accuracy: 0.7192 - val_loss: 1.8701 - val_accuracy: 0.7013\n",
      "Epoch 11/15\n",
      "313/313 [==============================] - ETA: 0s - loss: 1.6629 - accuracy: 0.7203\n",
      "Epoch 11: val_loss improved from 1.87012 to 1.86104, saving model to ../File/Model/model151S.h5\n",
      "313/313 [==============================] - 722s 2s/step - loss: 1.6629 - accuracy: 0.7203 - val_loss: 1.8610 - val_accuracy: 0.7023\n",
      "Epoch 12/15\n",
      "313/313 [==============================] - ETA: 0s - loss: 1.6455 - accuracy: 0.7217\n",
      "Epoch 12: val_loss improved from 1.86104 to 1.85607, saving model to ../File/Model/model151S.h5\n",
      "313/313 [==============================] - 801s 3s/step - loss: 1.6455 - accuracy: 0.7217 - val_loss: 1.8561 - val_accuracy: 0.6998\n",
      "Epoch 13/15\n",
      "313/313 [==============================] - ETA: 0s - loss: 1.6289 - accuracy: 0.7227\n",
      "Epoch 13: val_loss improved from 1.85607 to 1.84660, saving model to ../File/Model/model151S.h5\n",
      "313/313 [==============================] - 1020s 3s/step - loss: 1.6289 - accuracy: 0.7227 - val_loss: 1.8466 - val_accuracy: 0.7015\n",
      "Epoch 14/15\n",
      "313/313 [==============================] - ETA: 0s - loss: 1.6125 - accuracy: 0.7241\n",
      "Epoch 14: val_loss improved from 1.84660 to 1.84011, saving model to ../File/Model/model151S.h5\n",
      "313/313 [==============================] - 1010s 3s/step - loss: 1.6125 - accuracy: 0.7241 - val_loss: 1.8401 - val_accuracy: 0.7007\n",
      "Epoch 15/15\n",
      "313/313 [==============================] - ETA: 0s - loss: 1.5975 - accuracy: 0.7253\n",
      "Epoch 15: val_loss improved from 1.84011 to 1.82800, saving model to ../File/Model/model151S.h5\n",
      "313/313 [==============================] - 1037s 3s/step - loss: 1.5975 - accuracy: 0.7253 - val_loss: 1.8280 - val_accuracy: 0.7016\n"
     ]
    }
   ],
   "source": [
    "filename = '../File/Model/model151S.h5'\n",
    "checkpoint = ModelCheckpoint(filename, monitor='val_loss', verbose=1, save_best_only=True, mode='min')\n",
    "\n",
    "history =  model.fit(trainX, trainY, \n",
    "                     \n",
    "                     \n",
    "                     epochs=15, batch_size=256, validation_data=(testX, testY), callbacks=[checkpoint] , verbose=1)  \n",
    "\n"
   ]
  },
  {
   "cell_type": "code",
   "execution_count": 32,
   "metadata": {},
   "outputs": [],
   "source": [
    "# Cargar el modelo\n",
    "model = load_model('../File/Model/model151S.h5')"
   ]
  },
  {
   "attachments": {},
   "cell_type": "markdown",
   "metadata": {},
   "source": [
    "## Evaluación del modelo"
   ]
  },
  {
   "cell_type": "code",
   "execution_count": 21,
   "metadata": {},
   "outputs": [
    {
     "name": "stdout",
     "output_type": "stream",
     "text": [
      "2500/2500 [==============================] - 201s 80ms/step - loss: 1.8635 - accuracy: 0.7075\n",
      "Train loss: 1.8635072708129883\n",
      "Train accuracy: 0.7075477838516235\n",
      "625/625 [==============================] - 70s 113ms/step - loss: 2.0009 - accuracy: 0.6933\n",
      "Test loss: 2.0008528232574463\n",
      "Test accuracy: 0.6932962536811829\n"
     ]
    }
   ],
   "source": [
    "# Evaluar el modelo para 15 epochs\n",
    "\n",
    "score_train = model.evaluate(trainX, trainY)\n",
    "\n",
    "print('Train loss:', score_train[0])        \n",
    "print('Train accuracy:', score_train[1])\n",
    "\n",
    "score_test = model.evaluate(testX, testY)\n",
    "\n",
    "print('Test loss:', score_test[0])\n",
    "print('Test accuracy:', score_test[1])"
   ]
  },
  {
   "cell_type": "code",
   "execution_count": 30,
   "metadata": {},
   "outputs": [
    {
     "name": "stdout",
     "output_type": "stream",
     "text": [
      "2500/2500 [==============================] - 382s 153ms/step - loss: 1.5279 - accuracy: 0.7327\n",
      "Train loss: 1.5278743505477905\n",
      "Train accuracy: 0.7327162623405457\n",
      "625/625 [==============================] - 105s 168ms/step - loss: 1.8280 - accuracy: 0.7016\n",
      "Test loss: 1.8279999494552612\n",
      "Test accuracy: 0.7015824913978577\n"
     ]
    }
   ],
   "source": [
    "# Evaluar el modelo para 30 epochs\n",
    "\n",
    "score_train = model.evaluate(trainX, trainY)\n",
    "\n",
    "print('Train loss:', score_train[0])        \n",
    "print('Train accuracy:', score_train[1])\n",
    "\n",
    "score_test = model.evaluate(testX, testY)\n",
    "\n",
    "print('Test loss:', score_test[0])\n",
    "print('Test accuracy:', score_test[1])"
   ]
  },
  {
   "attachments": {},
   "cell_type": "markdown",
   "metadata": {},
   "source": [
    "Nota:<br><br>\n",
    "En el conjunto de entrenamiento, la pérdida (loss) es de aproximadamente 1.52 y la precisión (accuracy) es de alrededor del 73.27%. Esto indica que el modelo ha logrado ajustarse a los datos de entrenamiento y puede predecir correctamente el 73.27% de las frases en este conjunto.\n",
    "\n",
    "En el conjunto de prueba, la pérdida es de aproximadamente 1.82 y la precisión es de alrededor del 70.16%. Estos resultados son similares a los obtenidos en el conjunto de entrenamiento, lo cual es un indicio de que el modelo no está sobreajustado y generaliza bien a datos no vistos previamente.\n",
    "\n",
    "Con un tamaño de vocabulario de 10,000 palabras únicas y 100,000 muestras de entrenamiento se logró una precisión del 70.16% en el conjunto de prueba, siendo bastante bueno, considerando que hay una gran cantidad de palabras y muestras involucradas.\n",
    "\n",
    "El modelo LSTM está aprendiendo patrones relevantes para la traducción de frases de inglés a español y que tiene un desempeño razonablemente bueno en términos de precisión.\n",
    "\n",
    "Pero se debe evaluar otras métricas para ver cuán bien está generalizando el modelo"
   ]
  },
  {
   "attachments": {},
   "cell_type": "markdown",
   "metadata": {},
   "source": [
    "### Gráfica sobre los valores de pérdida y presición del historial del modelo"
   ]
  },
  {
   "cell_type": "code",
   "execution_count": 33,
   "metadata": {},
   "outputs": [
    {
     "data": {
      "image/png": "[encoded data removed]",
      "text/plain": [
       "<Figure size 640x480 with 1 Axes>"
      ]
     },
     "metadata": {},
     "output_type": "display_data"
    },
    {
     "data": {
      "image/png": "[encoded data removed]",
      "text/plain": [
       "<Figure size 640x480 with 1 Axes>"
      ]
     },
     "metadata": {},
     "output_type": "display_data"
    }
   ],
   "source": [
    "# Valores de pérdida y precisión del historial\n",
    "train_loss = history.history['loss']\n",
    "val_loss = history.history['val_loss']\n",
    "train_acc = history.history['accuracy']\n",
    "val_acc = history.history['val_accuracy']\n",
    "\n",
    "# Gráfica de la pérdida\n",
    "plt.plot(train_loss)\n",
    "plt.plot(val_loss)\n",
    "plt.legend(['train', 'val'])\n",
    "plt.title('Loss')\n",
    "plt.xlabel('Epochs')\n",
    "plt.ylabel('Loss')\n",
    "plt.show()\n",
    "\n",
    "# Gráfica de la precisión\n",
    "plt.plot(train_acc)\n",
    "plt.plot(val_acc)\n",
    "plt.legend(['train', 'val'])\n",
    "plt.title('Accuracy')\n",
    "plt.xlabel('Epochs')\n",
    "plt.ylabel('Accuracy')\n",
    "plt.show()"
   ]
  },
  {
   "attachments": {},
   "cell_type": "markdown",
   "metadata": {},
   "source": [
    "*Gráfica de Pérdida:*\n",
    "- La gráfica de pérdida muestra cómo la pérdida (error) del modelo evoluciona a lo largo de las épocas de entrenamiento.\n",
    "- El eje horizontal representa el número de épocas, mientras que el eje vertical representa el valor de pérdida.\n",
    "- Se muestra que la pérdida va disminuyendo a medida que aumentan las épocas.\n",
    "- Se observa que la línea de pérdida de entrenamiento (train loss) disminuye y se mantiene cerca de la línea de pérdida de validación (validation loss), indica que el modelo está aprendiendo correctamente y generalizando bien."
   ]
  },
  {
   "attachments": {},
   "cell_type": "markdown",
   "metadata": {},
   "source": [
    "*Gráfica de Precisión:*\n",
    "- La gráfica de precisión muestra cómo la precisión del modelo evoluciona a lo largo de las épocas de entrenamiento.\n",
    "- El eje horizontal representa el número de épocas, mientras que el eje vertical representa el valor de precisión.\n",
    "- Se observa que la precisión aumente a medida que aumentan las épocas."
   ]
  },
  {
   "attachments": {},
   "cell_type": "markdown",
   "metadata": {},
   "source": [
    "En resumen, durante el entrenamiento:\n",
    "\n",
    "- La pérdida disminuya y la precisión aumente.\n",
    "- Estas gráficas brindan información visual sobre cómo el modelo está progresando durante el entrenamiento. \n",
    "- Se debería seguir entrenando con más épocas\n",
    "\n",
    "\n",
    "Pero estas métricas no son suficiente para evaluar modelos de traducción. Es importante tener en cuenta otros aspectos del rendimiento del modelo, como las métricas de evaluación (por ejemplo, BLEU, METEOR, ROUGE) y realizar una revisión manual de las traducciones generadas para tener una evaluación más completa del desempeño de tu modelo de traducción."
   ]
  },
  {
   "attachments": {},
   "cell_type": "markdown",
   "metadata": {},
   "source": [
    "## Predecir"
   ]
  },
  {
   "cell_type": "code",
   "execution_count": 34,
   "metadata": {},
   "outputs": [],
   "source": [
    "# Función get_word\n",
    "\n",
    "def get_word(n, tokenizer):\n",
    "    for word, index in tokenizer.word_index.items():\n",
    "        if index == n:\n",
    "            return word\n",
    "    return None"
   ]
  },
  {
   "cell_type": "code",
   "execution_count": 64,
   "metadata": {},
   "outputs": [],
   "source": [
    "# Función para predecir una secuencia\n",
    "\n",
    "def predict_sequence(model, input_sentence):\n",
    "    inputs = []\n",
    "    for i in input_sentence.split():\n",
    "        if i in en_tokenizer.word_index:\n",
    "            inputs.append(en_tokenizer.word_index[i])\n",
    "\n",
    "    inputs = pad_sequences([inputs], maxlen=en_length, padding='post')\n",
    "\n",
    "    temp = []\n",
    "    for i in inputs[0]:\n",
    "        t = get_word(i, es_tokenizer)\n",
    "        if i > 0:\n",
    "            if (t == get_word(i-1, es_tokenizer)) or (t == None):\n",
    "                temp.append('')\n",
    "            else:\n",
    "                temp.append(t)\n",
    "        else:\n",
    "            if (t == None):\n",
    "                temp.append('')\n",
    "            else:\n",
    "                temp.append(t)\n",
    "\n",
    "    print(' '.join(temp))\n",
    "    aux = ' '.join(temp)\n",
    "    # strim() elimina los espacios en blanco\n",
    "    return aux.strip()\n",
    "    return\n",
    "\n",
    "# Función para prededir varias secuencias\n",
    "\n",
    "\n",
    "def predict_multiple_sequences(model, input_sentences):\n",
    "    pred = []\n",
    "    for i in input_sentences:\n",
    "        pred.append(predict_sequence(model, i))\n",
    "        print('\\n')\n",
    "    return pred\n"
   ]
  },
  {
   "cell_type": "code",
   "execution_count": 65,
   "metadata": {},
   "outputs": [
    {
     "name": "stdout",
     "output_type": "stream",
     "text": [
      "que estaba es                                     \n"
     ]
    },
    {
     "data": {
      "text/plain": [
       "'que estaba es'"
      ]
     },
     "execution_count": 65,
     "metadata": {},
     "output_type": "execute_result"
    }
   ],
   "source": [
    "predict_sequence(model, 'i love you')"
   ]
  },
  {
   "attachments": {},
   "cell_type": "markdown",
   "metadata": {},
   "source": [
    "Se observa que el modelo no predice correctamente la secuencia de salida en español para la secuencia de entrada en inglés 'i love you'. \n",
    "Esto se debe a que el modelo no ha sido entrenado con suficientes epochs. "
   ]
  },
  {
   "cell_type": "code",
   "execution_count": 66,
   "metadata": {},
   "outputs": [
    {
     "data": {
      "text/plain": [
       "id\n",
       "9195670                      <start> para el quad de ?  <end>\n",
       "3353300           <start> avestruz y corral lo tengo .  <end>\n",
       "5137219     <start> te da algo de estabilidad cuando tiene...\n",
       "5759567     <start> sus canciones estan bien wrought y en ...\n",
       "3761092     <start> a continuacion mi valoracion de las ca...\n",
       "5158646     <start> queda muy bien con el banco de clavija...\n",
       "3364697                     <start> la trufa blanca es  <end>\n",
       "1190033     <start> no necesito estar comodo mientras el g...\n",
       "11782773    <start> podria seguir durante mucho tiempo de ...\n",
       "11375468    <start> wordpress es un sistema de gestion de ...\n",
       "Name: preprocess_target, dtype: object"
      ]
     },
     "execution_count": 66,
     "metadata": {},
     "output_type": "execute_result"
    }
   ],
   "source": [
    "test['preprocess_target'][30:40]"
   ]
  },
  {
   "cell_type": "code",
   "execution_count": 69,
   "metadata": {},
   "outputs": [
    {
     "name": "stdout",
     "output_type": "stream",
     "text": [
      "una de un tradicionalmente                                    \n",
      "\n",
      "\n",
      "interactue y tocaba sea no                                   \n",
      "\n",
      "\n",
      "pocos es sobre adivina tengo es las la dijeron y a solo una ligeramente por el bonitas un de jugador la meses mucho en de antes              \n",
      "\n",
      "\n",
      "ya nuestra este estos oficios y por historia constantemente ya hice en alfiler gusto interminables ademas                        \n",
      "\n",
      "\n",
      "puerta a como fuerza comedia                                   \n",
      "\n",
      "\n",
      "hubiera solo me de toallas el juro barrios                                \n",
      "\n",
      "\n",
      "de contenido promocional a                                    \n",
      "\n",
      "\n",
      "que te se lugar la del queda mas leer mas de envio a nuestro                          \n",
      "\n",
      "\n",
      "que cada parte por una altas tener pero no con hay los desde a                          \n",
      "\n",
      "\n",
      "caracteristica a el equipo minimo sigue gente la tenian rango suelo                             \n",
      "\n",
      "\n"
     ]
    }
   ],
   "source": [
    "test_data = test['preprocess_source'][30:40]\n",
    "pred = predict_multiple_sequences(model, test_data)\n"
   ]
  },
  {
   "cell_type": "code",
   "execution_count": 71,
   "metadata": {},
   "outputs": [
    {
     "name": "stdout",
     "output_type": "stream",
     "text": [
      "['una de un tradicionalmente', 'interactue y tocaba sea no', 'pocos es sobre adivina tengo es las la dijeron y a solo una ligeramente por el bonitas un de jugador la meses mucho en de antes', 'ya nuestra este estos oficios y por historia constantemente ya hice en alfiler gusto interminables ademas', 'puerta a como fuerza comedia', 'hubiera solo me de toallas el juro barrios', 'de contenido promocional a', 'que te se lugar la del queda mas leer mas de envio a nuestro', 'que cada parte por una altas tener pero no con hay los desde a', 'caracteristica a el equipo minimo sigue gente la tenian rango suelo']\n",
      "\n",
      "\n",
      "['<start> for the in quad ?  <end>'\n",
      " '<start> ostrich and barnyard got it .  <end>'\n",
      " '<start> gives you some stability when you have to reach and is great for hanging on a hook in the garage to keep out of the way .  <end>'\n",
      " '<start> his songs are well wrought and on most tracks his sense of lyricism comes shining through .  <end>'\n",
      " '<start> below is my track rating .  <end>'\n",
      " '<start> goes great with the pound a peg bench .  <end>'\n",
      " '<start> the white truffle is  <end>'\n",
      " '<start> i don t need to be comfortable as long as the cat is happy  <end>'\n",
      " '<start> i could go on for ages really but it s like this movie is . . .  <end>'\n",
      " '<start> wordpress is a content management system use to build blog sites .  <end>']\n"
     ]
    }
   ],
   "source": [
    "print(pred)\n",
    "print('\\n')\n",
    "print(np.array(test_data))\n",
    "\n"
   ]
  },
  {
   "cell_type": "code",
   "execution_count": 79,
   "metadata": {},
   "outputs": [],
   "source": [
    "references = [\n",
    "    'para el en quad?',\n",
    "    'avestruz y corral lo consiguieron.',\n",
    "    'le da algo de estabilidad cuando tiene que alcanzar y es ideal para colgar en un gancho en el garaje para no estorbar.',\n",
    "    'sus canciones están bien elaboradas y en la mayoría de las pistas brilla su sentido del lirismo.',\n",
    "    'abajo está mi calificación de la pista.',\n",
    "    'va muy bien con la libra un banco de clavijas.',\n",
    "    'la trufa blanca es',\n",
    "    \"No necesito estar cómodo mientras el gato esté feliz\",\n",
    "    'podría seguir durante mucho tiempo, pero es como esta película. . .',\n",
    "    'wordpress es un sistema de administración de contenido que se utiliza para crear sitios de blogs.']\n",
    "\n",
    "\n"
   ]
  },
  {
   "cell_type": "code",
   "execution_count": 80,
   "metadata": {},
   "outputs": [
    {
     "name": "stdout",
     "output_type": "stream",
     "text": [
      "['para el en quad?', 'avestruz y corral lo consiguieron.', 'le da algo de estabilidad cuando tiene que alcanzar y es ideal para colgar en un gancho en el garaje para no estorbar.', 'sus canciones están bien elaboradas y en la mayoría de las pistas brilla su sentido del lirismo.', 'abajo está mi calificación de la pista.', 'va muy bien con la libra un banco de clavijas.', 'la trufa blanca es', 'No necesito estar cómodo mientras el gato esté feliz', 'podría seguir durante mucho tiempo, pero es como esta película. . .', 'wordpress es un sistema de administración de contenido que se utiliza para crear sitios de blogs.']\n"
     ]
    }
   ],
   "source": [
    "print(references)"
   ]
  },
  {
   "cell_type": "code",
   "execution_count": 81,
   "metadata": {},
   "outputs": [
    {
     "name": "stdout",
     "output_type": "stream",
     "text": [
      "['una de un tradicionalmente', 'interactue y tocaba sea no', 'pocos es sobre adivina tengo es las la dijeron y a solo una ligeramente por el bonitas un de jugador la meses mucho en de antes', 'ya nuestra este estos oficios y por historia constantemente ya hice en alfiler gusto interminables ademas', 'puerta a como fuerza comedia', 'hubiera solo me de toallas el juro barrios', 'de contenido promocional a', 'que te se lugar la del queda mas leer mas de envio a nuestro', 'que cada parte por una altas tener pero no con hay los desde a', 'caracteristica a el equipo minimo sigue gente la tenian rango suelo']\n"
     ]
    }
   ],
   "source": [
    "print(pred)"
   ]
  },
  {
   "attachments": {},
   "cell_type": "markdown",
   "metadata": {},
   "source": [
    "## Métrica BLUE"
   ]
  },
  {
   "cell_type": "code",
   "execution_count": 90,
   "metadata": {},
   "outputs": [
    {
     "name": "stdout",
     "output_type": "stream",
     "text": [
      "Mean BLEU score -> 5.284164025604417e-232\n"
     ]
    },
    {
     "name": "stderr",
     "output_type": "stream",
     "text": [
      "/opt/homebrew/anaconda3/envs/deep_learning/lib/python3.9/site-packages/nltk/translate/bleu_score.py:552: UserWarning: \n",
      "The hypothesis contains 0 counts of 2-gram overlaps.\n",
      "Therefore the BLEU score evaluates to 0, independently of\n",
      "how many N-gram overlaps of lower order it contains.\n",
      "Consider using lower n-gram order or use SmoothingFunction()\n",
      "  warnings.warn(_msg)\n",
      "/opt/homebrew/anaconda3/envs/deep_learning/lib/python3.9/site-packages/nltk/translate/bleu_score.py:552: UserWarning: \n",
      "The hypothesis contains 0 counts of 3-gram overlaps.\n",
      "Therefore the BLEU score evaluates to 0, independently of\n",
      "how many N-gram overlaps of lower order it contains.\n",
      "Consider using lower n-gram order or use SmoothingFunction()\n",
      "  warnings.warn(_msg)\n",
      "/opt/homebrew/anaconda3/envs/deep_learning/lib/python3.9/site-packages/nltk/translate/bleu_score.py:552: UserWarning: \n",
      "The hypothesis contains 0 counts of 4-gram overlaps.\n",
      "Therefore the BLEU score evaluates to 0, independently of\n",
      "how many N-gram overlaps of lower order it contains.\n",
      "Consider using lower n-gram order or use SmoothingFunction()\n",
      "  warnings.warn(_msg)\n"
     ]
    },
    {
     "data": {
      "text/html": [
       "<div>\n",
       "<style scoped>\n",
       "    .dataframe tbody tr th:only-of-type {\n",
       "        vertical-align: middle;\n",
       "    }\n",
       "\n",
       "    .dataframe tbody tr th {\n",
       "        vertical-align: top;\n",
       "    }\n",
       "\n",
       "    .dataframe thead th {\n",
       "        text-align: right;\n",
       "    }\n",
       "</style>\n",
       "<table border=\"1\" class=\"dataframe\">\n",
       "  <thead>\n",
       "    <tr style=\"text-align: right;\">\n",
       "      <th></th>\n",
       "      <th>reference</th>\n",
       "      <th>candidate</th>\n",
       "      <th>score</th>\n",
       "    </tr>\n",
       "  </thead>\n",
       "  <tbody>\n",
       "    <tr>\n",
       "      <th>0</th>\n",
       "      <td>para el en quad?</td>\n",
       "      <td>una de un tradicionalmente</td>\n",
       "      <td>0.000000e+00</td>\n",
       "    </tr>\n",
       "    <tr>\n",
       "      <th>1</th>\n",
       "      <td>avestruz y corral lo consiguieron.</td>\n",
       "      <td>interactue y tocaba sea no</td>\n",
       "      <td>1.218332e-231</td>\n",
       "    </tr>\n",
       "    <tr>\n",
       "      <th>2</th>\n",
       "      <td>le da algo de estabilidad cuando tiene que alc...</td>\n",
       "      <td>pocos es sobre adivina tengo es las la dijeron...</td>\n",
       "      <td>1.262708e-231</td>\n",
       "    </tr>\n",
       "    <tr>\n",
       "      <th>3</th>\n",
       "      <td>sus canciones están bien elaboradas y en la ma...</td>\n",
       "      <td>ya nuestra este estos oficios y por historia c...</td>\n",
       "      <td>1.017636e-231</td>\n",
       "    </tr>\n",
       "    <tr>\n",
       "      <th>4</th>\n",
       "      <td>abajo está mi calificación de la pista.</td>\n",
       "      <td>puerta a como fuerza comedia</td>\n",
       "      <td>0.000000e+00</td>\n",
       "    </tr>\n",
       "    <tr>\n",
       "      <th>5</th>\n",
       "      <td>va muy bien con la libra un banco de clavijas.</td>\n",
       "      <td>hubiera solo me de toallas el juro barrios</td>\n",
       "      <td>8.436498e-232</td>\n",
       "    </tr>\n",
       "    <tr>\n",
       "      <th>6</th>\n",
       "      <td>la trufa blanca es</td>\n",
       "      <td>de contenido promocional a</td>\n",
       "      <td>0.000000e+00</td>\n",
       "    </tr>\n",
       "    <tr>\n",
       "      <th>7</th>\n",
       "      <td>No necesito estar cómodo mientras el gato esté...</td>\n",
       "      <td>que te se lugar la del queda mas leer mas de e...</td>\n",
       "      <td>0.000000e+00</td>\n",
       "    </tr>\n",
       "    <tr>\n",
       "      <th>8</th>\n",
       "      <td>podría seguir durante mucho tiempo, pero es co...</td>\n",
       "      <td>que cada parte por una altas tener pero no con...</td>\n",
       "      <td>9.418382e-232</td>\n",
       "    </tr>\n",
       "    <tr>\n",
       "      <th>9</th>\n",
       "      <td>wordpress es un sistema de administración de c...</td>\n",
       "      <td>caracteristica a el equipo minimo sigue gente ...</td>\n",
       "      <td>0.000000e+00</td>\n",
       "    </tr>\n",
       "  </tbody>\n",
       "</table>\n",
       "</div>"
      ],
      "text/plain": [
       "                                           reference   \n",
       "0                                   para el en quad?  \\\n",
       "1                 avestruz y corral lo consiguieron.   \n",
       "2  le da algo de estabilidad cuando tiene que alc...   \n",
       "3  sus canciones están bien elaboradas y en la ma...   \n",
       "4            abajo está mi calificación de la pista.   \n",
       "5     va muy bien con la libra un banco de clavijas.   \n",
       "6                                 la trufa blanca es   \n",
       "7  No necesito estar cómodo mientras el gato esté...   \n",
       "8  podría seguir durante mucho tiempo, pero es co...   \n",
       "9  wordpress es un sistema de administración de c...   \n",
       "\n",
       "                                           candidate          score  \n",
       "0                         una de un tradicionalmente   0.000000e+00  \n",
       "1                         interactue y tocaba sea no  1.218332e-231  \n",
       "2  pocos es sobre adivina tengo es las la dijeron...  1.262708e-231  \n",
       "3  ya nuestra este estos oficios y por historia c...  1.017636e-231  \n",
       "4                       puerta a como fuerza comedia   0.000000e+00  \n",
       "5         hubiera solo me de toallas el juro barrios  8.436498e-232  \n",
       "6                         de contenido promocional a   0.000000e+00  \n",
       "7  que te se lugar la del queda mas leer mas de e...   0.000000e+00  \n",
       "8  que cada parte por una altas tener pero no con...  9.418382e-232  \n",
       "9  caracteristica a el equipo minimo sigue gente ...   0.000000e+00  "
      ]
     },
     "execution_count": 90,
     "metadata": {},
     "output_type": "execute_result"
    }
   ],
   "source": [
    "\n",
    "\n",
    "# media de las puntuaciones BLEU\n",
    "score = 0\n",
    "scores = []\n",
    "for i in range(len(pred)):\n",
    "    reference = [references[i].split()]\n",
    "    candidate = pred[i].split()\n",
    "    blue = sentence_bleu(reference, candidate)\n",
    "    # guardar referencia canditada y score\n",
    "    scores.append([\" \".join(reference[0]), \" \".join(candidate), blue])\n",
    "    score += sentence_bleu(reference, candidate)\n",
    "\n",
    "# scores a dataframe\n",
    "scores = pd.DataFrame(scores, columns=['reference', 'candidate', 'score'])\n",
    "\n",
    "print('Mean BLEU score -> {}'.format(score/len(pred)))\n",
    "scores\n"
   ]
  }
 ],
 "metadata": {
  "kernelspec": {
   "display_name": "deep_learning",
   "language": "python",
   "name": "python3"
  },
  "language_info": {
   "codemirror_mode": {
    "name": "ipython",
    "version": 3
   },
   "file_extension": ".py",
   "mimetype": "text/x-python",
   "name": "python",
   "nbconvert_exporter": "python",
   "pygments_lexer": "ipython3",
   "version": "3.9.16"
  },
  "orig_nbformat": 4
 },
 "nbformat": 4,
 "nbformat_minor": 2
}
