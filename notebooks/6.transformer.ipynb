{
 "cells": [
  {
   "cell_type": "code",
   "execution_count": 8,
   "metadata": {},
   "outputs": [],
   "source": [
    "import pathlib\n",
    "import random\n",
    "import string\n",
    "import re\n",
    "import numpy as np\n",
    "import tensorflow as tf\n",
    "from tensorflow import keras\n",
    "from tensorflow.keras import layers\n",
    "from tensorflow.keras.layers import TextVectorization\n",
    "from sklearn.model_selection import train_test_split\n",
    "import pandas as pd\n",
    "import matplotlib.pyplot as plt\n",
    "from nltk.translate.bleu_score import corpus_bleu,sentence_bleu\n",
    "\n"
   ]
  },
  {
   "cell_type": "code",
   "execution_count": 9,
   "metadata": {},
   "outputs": [],
   "source": [
    "\n",
    "text_pairs = pd.read_csv('../File/df_corpus_linguistico_preprocesado.csv',\n",
    "                 sep='\\t', encoding='utf-8', index_col=0)\n"
   ]
  },
  {
   "cell_type": "code",
   "execution_count": 10,
   "metadata": {},
   "outputs": [],
   "source": [
    "\n",
    "# Divide en conjuntos de entrenamiento, validación y prueba\n",
    "\n",
    "train_pairs, test_val_pairs = train_test_split(text_pairs, test_size=0.3)  # 70% para entrenamiento, 30% para prueba + validación\n",
    "\n",
    "val_pairs, test_pairs = train_test_split(test_val_pairs, test_size=0.5)  # Dividir la mitad del 30% para validación y la otra mitad para prueba\n",
    "\n"
   ]
  },
  {
   "attachments": {},
   "cell_type": "markdown",
   "metadata": {},
   "source": [
    "## Tokenización de frases"
   ]
  },
  {
   "cell_type": "code",
   "execution_count": 8,
   "metadata": {},
   "outputs": [],
   "source": [
    "strip_chars = string.punctuation + \"¿\"\n",
    "strip_chars = strip_chars.replace(\"[\", \"\")\n",
    "strip_chars = strip_chars.replace(\"]\", \"\")\n",
    "\n",
    "vocab_size = 15000\n",
    "sequence_length = 20\n",
    "batch_size = 64\n",
    "\n",
    "# Vectorización de texto en inglés y español (tokenización y codificación) con TextVectorization de Keras \n",
    "def custom_standardization(input_string):\n",
    "    lowercase = tf.strings.lower(input_string)\n",
    "    return tf.strings.regex_replace(lowercase, \"[%s]\" % re.escape(strip_chars), \"\")\n",
    "\n",
    "\n",
    "eng_vectorization = TextVectorization(\n",
    "    max_tokens=vocab_size, output_mode=\"int\", output_sequence_length=sequence_length,\n",
    ")\n",
    "spa_vectorization = TextVectorization(\n",
    "    max_tokens=vocab_size,\n",
    "    output_mode=\"int\",\n",
    "    output_sequence_length=sequence_length + 1,\n",
    "    standardize=custom_standardization,\n",
    ")\n",
    "train_eng_texts = [pair[0] for pair in train_pairs]\n",
    "train_spa_texts = [pair[1] for pair in train_pairs]\n",
    "eng_vectorization.adapt(train_eng_texts)\n",
    "spa_vectorization.adapt(train_spa_texts)\n"
   ]
  },
  {
   "cell_type": "code",
   "execution_count": 9,
   "metadata": {},
   "outputs": [],
   "source": [
    "def format_dataset(eng, spa):\n",
    "    eng = eng_vectorization(eng)                    # Vectorización de texto en inglés\n",
    "    spa = spa_vectorization(spa)                    # Vectorización de texto en español\n",
    "    return ({\"encoder_inputs\": eng, \"decoder_inputs\": spa[:, :-1], }, spa[:, 1:])\n",
    "\n",
    "\n",
    "def make_dataset(pairs):\n",
    "    eng_texts, spa_texts = zip(*pairs)\n",
    "    eng_texts = list(eng_texts)\n",
    "    spa_texts = list(spa_texts)\n",
    "    dataset = tf.data.Dataset.from_tensor_slices((eng_texts, spa_texts))\n",
    "    dataset = dataset.batch(batch_size)\n",
    "    dataset = dataset.map(format_dataset)\n",
    "    return dataset.shuffle(2048).prefetch(16).cache()\n",
    "\n",
    "\n",
    "train_ds = make_dataset(train_pairs)\n",
    "val_ds = make_dataset(val_pairs)\n"
   ]
  },
  {
   "cell_type": "code",
   "execution_count": 10,
   "metadata": {},
   "outputs": [
    {
     "name": "stderr",
     "output_type": "stream",
     "text": [
      "2023-05-15 18:41:42.735124: I tensorflow/core/common_runtime/executor.cc:1210] [/device:CPU:0] (DEBUG INFO) Executor start aborting (this does not indicate an error and you can ignore this message): INVALID_ARGUMENT: You must feed a value for placeholder tensor 'Placeholder/_7' with dtype int64\n",
      "\t [[{{node Placeholder/_7}}]]\n",
      "2023-05-15 18:41:42.735638: I tensorflow/core/common_runtime/executor.cc:1210] [/device:CPU:0] (DEBUG INFO) Executor start aborting (this does not indicate an error and you can ignore this message): INVALID_ARGUMENT: You must feed a value for placeholder tensor 'Placeholder/_7' with dtype int64\n",
      "\t [[{{node Placeholder/_7}}]]\n"
     ]
    },
    {
     "name": "stdout",
     "output_type": "stream",
     "text": [
      "inputs[\"encoder_inputs\"].shape: (64, 20)\n",
      "inputs[\"decoder_inputs\"].shape: (64, 20)\n",
      "targets.shape: (64, 20)\n"
     ]
    },
    {
     "name": "stderr",
     "output_type": "stream",
     "text": [
      "2023-05-15 18:41:43.136048: W tensorflow/core/kernels/data/cache_dataset_ops.cc:854] The calling iterator did not fully read the dataset being cached. In order to avoid unexpected truncation of the dataset, the partially cached contents of the dataset  will be discarded. This can happen if you have an input pipeline similar to `dataset.cache().take(k).repeat()`. You should use `dataset.take(k).cache().repeat()` instead.\n"
     ]
    }
   ],
   "source": [
    "for inputs, targets in train_ds.take(1):\n",
    "    print(f'inputs[\"encoder_inputs\"].shape: {inputs[\"encoder_inputs\"].shape}')\n",
    "    print(f'inputs[\"decoder_inputs\"].shape: {inputs[\"decoder_inputs\"].shape}')\n",
    "    print(f\"targets.shape: {targets.shape}\")"
   ]
  },
  {
   "attachments": {},
   "cell_type": "markdown",
   "metadata": {},
   "source": [
    "# Definir modelo"
   ]
  },
  {
   "cell_type": "code",
   "execution_count": 11,
   "metadata": {},
   "outputs": [],
   "source": [
    "class TransformerEncoder(layers.Layer):\n",
    "    def __init__(self, embed_dim, dense_dim, num_heads, **kwargs):\n",
    "        super().__init__(**kwargs)\n",
    "        self.embed_dim = embed_dim\n",
    "        self.dense_dim = dense_dim\n",
    "        self.num_heads = num_heads\n",
    "        self.attention = layers.MultiHeadAttention(\n",
    "            num_heads=num_heads, key_dim=embed_dim\n",
    "        )\n",
    "        self.dense_proj = keras.Sequential(\n",
    "            [layers.Dense(dense_dim, activation=\"relu\"),\n",
    "             layers.Dense(embed_dim),]\n",
    "        )\n",
    "        self.layernorm_1 = layers.LayerNormalization()\n",
    "        self.layernorm_2 = layers.LayerNormalization()\n",
    "        self.supports_masking = True\n",
    "\n",
    "    def call(self, inputs, mask=None):\n",
    "        if mask is not None:\n",
    "            padding_mask = tf.cast(mask[:, tf.newaxis, :], dtype=\"int32\")\n",
    "        attention_output = self.attention(\n",
    "            query=inputs, value=inputs, key=inputs, attention_mask=padding_mask\n",
    "        )\n",
    "        proj_input = self.layernorm_1(inputs + attention_output)\n",
    "        proj_output = self.dense_proj(proj_input)\n",
    "        return self.layernorm_2(proj_input + proj_output)\n",
    "\n",
    "\n",
    "class PositionalEmbedding(layers.Layer):\n",
    "    def __init__(self, sequence_length, vocab_size, embed_dim, **kwargs):\n",
    "        super().__init__(**kwargs)\n",
    "        self.token_embeddings = layers.Embedding(\n",
    "            input_dim=vocab_size, output_dim=embed_dim\n",
    "        )\n",
    "        self.position_embeddings = layers.Embedding(\n",
    "            input_dim=sequence_length, output_dim=embed_dim\n",
    "        )\n",
    "        self.sequence_length = sequence_length\n",
    "        self.vocab_size = vocab_size\n",
    "        self.embed_dim = embed_dim\n",
    "\n",
    "    def call(self, inputs):\n",
    "        length = tf.shape(inputs)[-1]\n",
    "        positions = tf.range(start=0, limit=length, delta=1)\n",
    "        embedded_tokens = self.token_embeddings(inputs)\n",
    "        embedded_positions = self.position_embeddings(positions)\n",
    "        return embedded_tokens + embedded_positions\n",
    "\n",
    "    def compute_mask(self, inputs, mask=None):\n",
    "        return tf.math.not_equal(inputs, 0)\n",
    "\n",
    "\n",
    "class TransformerDecoder(layers.Layer):\n",
    "    def __init__(self, embed_dim, latent_dim, num_heads, **kwargs):\n",
    "        super().__init__(**kwargs)\n",
    "        self.embed_dim = embed_dim\n",
    "        self.latent_dim = latent_dim\n",
    "        self.num_heads = num_heads\n",
    "        self.attention_1 = layers.MultiHeadAttention(\n",
    "            num_heads=num_heads, key_dim=embed_dim\n",
    "        )\n",
    "        self.attention_2 = layers.MultiHeadAttention(\n",
    "            num_heads=num_heads, key_dim=embed_dim\n",
    "        )\n",
    "        self.dense_proj = keras.Sequential(\n",
    "            [layers.Dense(latent_dim, activation=\"relu\"),\n",
    "             layers.Dense(embed_dim),]\n",
    "        )\n",
    "        self.layernorm_1 = layers.LayerNormalization()\n",
    "        self.layernorm_2 = layers.LayerNormalization()\n",
    "        self.layernorm_3 = layers.LayerNormalization()\n",
    "        self.supports_masking = True\n",
    "\n",
    "    def call(self, inputs, encoder_outputs, mask=None):\n",
    "        causal_mask = self.get_causal_attention_mask(inputs)\n",
    "        if mask is not None:\n",
    "            padding_mask = tf.cast(mask[:, tf.newaxis, :], dtype=\"int32\")\n",
    "            padding_mask = tf.minimum(padding_mask, causal_mask)\n",
    "\n",
    "        attention_output_1 = self.attention_1(\n",
    "            query=inputs, value=inputs, key=inputs, attention_mask=causal_mask\n",
    "        )\n",
    "        out_1 = self.layernorm_1(inputs + attention_output_1)\n",
    "\n",
    "        attention_output_2 = self.attention_2(\n",
    "            query=out_1,\n",
    "            value=encoder_outputs,\n",
    "            key=encoder_outputs,\n",
    "            attention_mask=padding_mask,\n",
    "        )\n",
    "        out_2 = self.layernorm_2(out_1 + attention_output_2)\n",
    "\n",
    "        proj_output = self.dense_proj(out_2)\n",
    "        return self.layernorm_3(out_2 + proj_output)\n",
    "\n",
    "    def get_causal_attention_mask(self, inputs):\n",
    "        input_shape = tf.shape(inputs)\n",
    "        batch_size, sequence_length = input_shape[0], input_shape[1]\n",
    "        i = tf.range(sequence_length)[:, tf.newaxis]\n",
    "        j = tf.range(sequence_length)\n",
    "        mask = tf.cast(i >= j, dtype=\"int32\")\n",
    "        mask = tf.reshape(mask, (1, input_shape[1], input_shape[1]))\n",
    "        mult = tf.concat(\n",
    "            [tf.expand_dims(batch_size, -1),\n",
    "             tf.constant([1, 1], dtype=tf.int32)],\n",
    "            axis=0,\n",
    "        )\n",
    "        return tf.tile(mask, mult)\n"
   ]
  },
  {
   "cell_type": "code",
   "execution_count": 12,
   "metadata": {},
   "outputs": [],
   "source": [
    "embed_dim = 256\n",
    "latent_dim = 2048\n",
    "num_heads = 8\n",
    "\n",
    "encoder_inputs = keras.Input(shape=(None,), dtype=\"int64\", name=\"encoder_inputs\")\n",
    "x = PositionalEmbedding(sequence_length, vocab_size, embed_dim)(encoder_inputs)\n",
    "encoder_outputs = TransformerEncoder(embed_dim, latent_dim, num_heads)(x)\n",
    "encoder = keras.Model(encoder_inputs, encoder_outputs)\n",
    "\n",
    "decoder_inputs = keras.Input(shape=(None,), dtype=\"int64\", name=\"decoder_inputs\")\n",
    "encoded_seq_inputs = keras.Input(shape=(None, embed_dim), name=\"decoder_state_inputs\")\n",
    "x = PositionalEmbedding(sequence_length, vocab_size, embed_dim)(decoder_inputs)\n",
    "x = TransformerDecoder(embed_dim, latent_dim, num_heads)(x, encoded_seq_inputs)\n",
    "x = layers.Dropout(0.5)(x)\n",
    "decoder_outputs = layers.Dense(vocab_size, activation=\"softmax\")(x)\n",
    "decoder = keras.Model([decoder_inputs, encoded_seq_inputs], decoder_outputs)\n",
    "\n",
    "decoder_outputs = decoder([decoder_inputs, encoder_outputs])\n",
    "transformer = keras.Model(\n",
    "    [encoder_inputs, decoder_inputs], decoder_outputs, name=\"transformer\"\n",
    ")"
   ]
  },
  {
   "cell_type": "code",
   "execution_count": 13,
   "metadata": {},
   "outputs": [
    {
     "name": "stdout",
     "output_type": "stream",
     "text": [
      "Model: \"transformer\"\n",
      "__________________________________________________________________________________________________\n",
      " Layer (type)                Output Shape                 Param #   Connected to                  \n",
      "==================================================================================================\n",
      " encoder_inputs (InputLayer  [(None, None)]               0         []                            \n",
      " )                                                                                                \n",
      "                                                                                                  \n",
      " positional_embedding (Posi  (None, None, 256)            3845120   ['encoder_inputs[0][0]']      \n",
      " tionalEmbedding)                                                                                 \n",
      "                                                                                                  \n",
      " decoder_inputs (InputLayer  [(None, None)]               0         []                            \n",
      " )                                                                                                \n",
      "                                                                                                  \n",
      " transformer_encoder (Trans  (None, None, 256)            3155456   ['positional_embedding[0][0]']\n",
      " formerEncoder)                                                                                   \n",
      "                                                                                                  \n",
      " model_1 (Functional)        (None, None, 15000)          1295964   ['decoder_inputs[0][0]',      \n",
      "                                                          0          'transformer_encoder[0][0]'] \n",
      "                                                                                                  \n",
      "==================================================================================================\n",
      "Total params: 19960216 (76.14 MB)\n",
      "Trainable params: 19960216 (76.14 MB)\n",
      "Non-trainable params: 0 (0.00 Byte)\n",
      "__________________________________________________________________________________________________\n",
      "Epoch 1/30\n"
     ]
    },
    {
     "name": "stderr",
     "output_type": "stream",
     "text": [
      "2023-05-15 18:43:00.475572: I tensorflow/core/common_runtime/executor.cc:1210] [/device:CPU:0] (DEBUG INFO) Executor start aborting (this does not indicate an error and you can ignore this message): INVALID_ARGUMENT: You must feed a value for placeholder tensor 'Placeholder/_7' with dtype int64\n",
      "\t [[{{node Placeholder/_7}}]]\n",
      "2023-05-15 18:43:00.475854: I tensorflow/core/common_runtime/executor.cc:1210] [/device:CPU:0] (DEBUG INFO) Executor start aborting (this does not indicate an error and you can ignore this message): INVALID_ARGUMENT: You must feed a value for placeholder tensor 'Placeholder/_6' with dtype resource\n",
      "\t [[{{node Placeholder/_6}}]]\n"
     ]
    },
    {
     "name": "stdout",
     "output_type": "stream",
     "text": [
      "1302/1302 [==============================] - ETA: 0s - loss: 4.0963 - accuracy: 0.4280"
     ]
    },
    {
     "name": "stderr",
     "output_type": "stream",
     "text": [
      "2023-05-15 18:53:07.359651: I tensorflow/core/common_runtime/executor.cc:1210] [/device:CPU:0] (DEBUG INFO) Executor start aborting (this does not indicate an error and you can ignore this message): INVALID_ARGUMENT: You must feed a value for placeholder tensor 'Placeholder/_13' with dtype int64\n",
      "\t [[{{node Placeholder/_13}}]]\n",
      "2023-05-15 18:53:07.360066: I tensorflow/core/common_runtime/executor.cc:1210] [/device:CPU:0] (DEBUG INFO) Executor start aborting (this does not indicate an error and you can ignore this message): INVALID_ARGUMENT: You must feed a value for placeholder tensor 'Placeholder/_0' with dtype string and shape [17844]\n",
      "\t [[{{node Placeholder/_0}}]]\n"
     ]
    },
    {
     "name": "stdout",
     "output_type": "stream",
     "text": [
      "1302/1302 [==============================] - 661s 506ms/step - loss: 4.0963 - accuracy: 0.4280 - val_loss: 3.2140 - val_accuracy: 0.5208\n",
      "Epoch 2/30\n",
      "1302/1302 [==============================] - 700s 538ms/step - loss: 3.2542 - accuracy: 0.5420 - val_loss: 2.8518 - val_accuracy: 0.5752\n",
      "Epoch 3/30\n",
      "1302/1302 [==============================] - 713s 548ms/step - loss: 2.8895 - accuracy: 0.5886 - val_loss: 2.6712 - val_accuracy: 0.6044\n",
      "Epoch 4/30\n",
      "1302/1302 [==============================] - 754s 579ms/step - loss: 2.6805 - accuracy: 0.6191 - val_loss: 2.5365 - val_accuracy: 0.6272\n",
      "Epoch 5/30\n",
      "1302/1302 [==============================] - 811s 623ms/step - loss: 2.5697 - accuracy: 0.6401 - val_loss: 2.4946 - val_accuracy: 0.6355\n",
      "Epoch 6/30\n",
      "1302/1302 [==============================] - 834s 641ms/step - loss: 2.4996 - accuracy: 0.6546 - val_loss: 2.4924 - val_accuracy: 0.6430\n",
      "Epoch 7/30\n",
      "1302/1302 [==============================] - 795s 610ms/step - loss: 2.4514 - accuracy: 0.6664 - val_loss: 2.4530 - val_accuracy: 0.6499\n",
      "Epoch 8/30\n",
      "1302/1302 [==============================] - 844s 649ms/step - loss: 2.4131 - accuracy: 0.6764 - val_loss: 2.4403 - val_accuracy: 0.6557\n",
      "Epoch 9/30\n",
      "1302/1302 [==============================] - 750s 576ms/step - loss: 2.3781 - accuracy: 0.6846 - val_loss: 2.4501 - val_accuracy: 0.6556\n",
      "Epoch 10/30\n",
      "1302/1302 [==============================] - 784s 602ms/step - loss: 2.3463 - accuracy: 0.6921 - val_loss: 2.4487 - val_accuracy: 0.6565\n",
      "Epoch 11/30\n",
      "1302/1302 [==============================] - 788s 605ms/step - loss: 2.3186 - accuracy: 0.6989 - val_loss: 2.4561 - val_accuracy: 0.6585\n",
      "Epoch 12/30\n",
      "1302/1302 [==============================] - 817s 628ms/step - loss: 2.2911 - accuracy: 0.7044 - val_loss: 2.4548 - val_accuracy: 0.6619\n",
      "Epoch 13/30\n",
      "1302/1302 [==============================] - 774s 595ms/step - loss: 2.2640 - accuracy: 0.7101 - val_loss: 2.4547 - val_accuracy: 0.6640\n",
      "Epoch 14/30\n",
      "1302/1302 [==============================] - 780s 599ms/step - loss: 2.2366 - accuracy: 0.7153 - val_loss: 2.4665 - val_accuracy: 0.6630\n",
      "Epoch 15/30\n",
      "1302/1302 [==============================] - 791s 607ms/step - loss: 2.2115 - accuracy: 0.7195 - val_loss: 2.4869 - val_accuracy: 0.6632\n",
      "Epoch 16/30\n",
      "1302/1302 [==============================] - 823s 632ms/step - loss: 2.1891 - accuracy: 0.7240 - val_loss: 2.4866 - val_accuracy: 0.6619\n",
      "Epoch 17/30\n",
      "1302/1302 [==============================] - 791s 607ms/step - loss: 2.1662 - accuracy: 0.7278 - val_loss: 2.5050 - val_accuracy: 0.6657\n",
      "Epoch 18/30\n",
      "1302/1302 [==============================] - 797s 612ms/step - loss: 2.1411 - accuracy: 0.7321 - val_loss: 2.4812 - val_accuracy: 0.6656\n",
      "Epoch 19/30\n",
      "1302/1302 [==============================] - 784s 603ms/step - loss: 2.1192 - accuracy: 0.7355 - val_loss: 2.5181 - val_accuracy: 0.6645\n",
      "Epoch 20/30\n",
      "1302/1302 [==============================] - 782s 600ms/step - loss: 2.0964 - accuracy: 0.7387 - val_loss: 2.5266 - val_accuracy: 0.6648\n",
      "Epoch 21/30\n",
      "1302/1302 [==============================] - 813s 624ms/step - loss: 2.0763 - accuracy: 0.7422 - val_loss: 2.5333 - val_accuracy: 0.6656\n",
      "Epoch 22/30\n",
      "1302/1302 [==============================] - 784s 602ms/step - loss: 2.0644 - accuracy: 0.7444 - val_loss: 2.5314 - val_accuracy: 0.6673\n",
      "Epoch 23/30\n",
      "1302/1302 [==============================] - 772s 593ms/step - loss: 2.0462 - accuracy: 0.7478 - val_loss: 2.5550 - val_accuracy: 0.6634\n",
      "Epoch 24/30\n",
      "1302/1302 [==============================] - 772s 593ms/step - loss: 2.0284 - accuracy: 0.7500 - val_loss: 2.5793 - val_accuracy: 0.6629\n",
      "Epoch 25/30\n",
      "1302/1302 [==============================] - 776s 596ms/step - loss: 2.0091 - accuracy: 0.7533 - val_loss: 2.5811 - val_accuracy: 0.6617\n",
      "Epoch 26/30\n",
      "1302/1302 [==============================] - 778s 598ms/step - loss: 1.9890 - accuracy: 0.7558 - val_loss: 2.5923 - val_accuracy: 0.6648\n",
      "Epoch 27/30\n",
      "1302/1302 [==============================] - 790s 607ms/step - loss: 1.9732 - accuracy: 0.7586 - val_loss: 2.6137 - val_accuracy: 0.6664\n",
      "Epoch 28/30\n",
      "1302/1302 [==============================] - 769s 590ms/step - loss: 1.9597 - accuracy: 0.7604 - val_loss: 2.6036 - val_accuracy: 0.6616\n",
      "Epoch 29/30\n",
      "1302/1302 [==============================] - 780s 599ms/step - loss: 1.9437 - accuracy: 0.7621 - val_loss: 2.6241 - val_accuracy: 0.6620\n",
      "Epoch 30/30\n",
      "1302/1302 [==============================] - 776s 596ms/step - loss: 1.9291 - accuracy: 0.7648 - val_loss: 2.6306 - val_accuracy: 0.6643\n"
     ]
    },
    {
     "data": {
      "text/plain": [
       "<keras.src.callbacks.History at 0x2818e7be0>"
      ]
     },
     "execution_count": 13,
     "metadata": {},
     "output_type": "execute_result"
    }
   ],
   "source": [
    "epochs = 30 \n",
    "\n",
    "transformer.summary()\n",
    "transformer.compile(\n",
    "    \"rmsprop\", loss=\"sparse_categorical_crossentropy\", metrics=[\"accuracy\"]\n",
    ")\n",
    "\n",
    "# save best Model\n",
    "checkpoint_filepath = 'model.h5'\n",
    "model_checkpoint_callback = tf.keras.callbacks.ModelCheckpoint(\n",
    "    filepath=checkpoint_filepath,\n",
    "    save_weights_only=True,\n",
    "    monitor='val_loss',\n",
    "    mode='min',\n",
    "    save_best_only=True)\n",
    "\n",
    "\n",
    "transformer.fit(train_ds, epochs=epochs, validation_data=val_ds,\n",
    "                callbacks=[model_checkpoint_callback])\n"
   ]
  },
  {
   "attachments": {},
   "cell_type": "markdown",
   "metadata": {},
   "source": [
    "### Gráfica sobre los valores de pérdida y presición del historial del modelo"
   ]
  },
  {
   "attachments": {},
   "cell_type": "markdown",
   "metadata": {},
   "source": [
    "Como no se guardó el history, se crearon variables con el valor de el error y presición en cada época."
   ]
  },
  {
   "cell_type": "code",
   "execution_count": 13,
   "metadata": {},
   "outputs": [],
   "source": [
    "\n",
    "loss = [4.0963, 3.2542, 2.8895, 2.6805, 2.5697, 2.4996, 2.4514, 2.4131, 2.3781, 2.3463, 2.3186, 2.2911, 2.2640, 1.9437, 1.9291]\n",
    "accuracy = [0.4280, 0.5420, 0.5886, 0.6191, 0.6401, 0.6546, 0.6664, 0.6764, 0.6846, 0.6921, 0.6989, 0.7044, 0.7101, 0.7621, 0.7648]\n",
    "val_loss = [3.2140, 2.8518, 2.6712, 2.5365, 2.4946, 2.4924, 2.4530, 2.4403, 2.4501, 2.4487, 2.4561, 2.4548, 2.4547, 2.6241, 2.6306]\n",
    "val_accuracy = [0.5208, 0.5752, 0.6044, 0.6272, 0.6355, 0.6430, 0.6499, 0.6557, 0.6556, 0.6565, 0.6585, 0.6619, 0.6640, 0.6620, 0.6643]"
   ]
  },
  {
   "cell_type": "code",
   "execution_count": 14,
   "metadata": {},
   "outputs": [
    {
     "data": {
      "image/png": "[encoded data removed]",
      "text/plain": [
       "<Figure size 640x480 with 1 Axes>"
      ]
     },
     "metadata": {},
     "output_type": "display_data"
    },
    {
     "data": {
      "image/png": "[encoded data removed]",
      "text/plain": [
       "<Figure size 640x480 with 1 Axes>"
      ]
     },
     "metadata": {},
     "output_type": "display_data"
    }
   ],
   "source": [
    "# Gráfica de la pérdida\n",
    "plt.plot(loss)\n",
    "plt.plot(val_loss)\n",
    "plt.legend(['train', 'val'])\n",
    "plt.title('Loss')\n",
    "plt.xlabel('Epochs')\n",
    "plt.ylabel('Loss')\n",
    "plt.show()\n",
    "\n",
    "# Gráfica de la precisión\n",
    "plt.plot(accuracy)\n",
    "plt.plot(val_accuracy)\n",
    "plt.legend(['train', 'val'])\n",
    "plt.title('Accuracy')\n",
    "plt.xlabel('Epochs')\n",
    "plt.ylabel('Accuracy')\n",
    "plt.show()"
   ]
  },
  {
   "attachments": {},
   "cell_type": "markdown",
   "metadata": {},
   "source": [
    "Luego de graficar se puede observar que el modelo comienza a sobreajustar a partir de la época 5."
   ]
  },
  {
   "cell_type": "code",
   "execution_count": 15,
   "metadata": {},
   "outputs": [],
   "source": [
    "# load best Model\n",
    "model = transformer.load_weights(checkpoint_filepath)\n"
   ]
  },
  {
   "attachments": {},
   "cell_type": "markdown",
   "metadata": {},
   "source": [
    "# Evaluación del modelo"
   ]
  },
  {
   "cell_type": "code",
   "execution_count": 17,
   "metadata": {},
   "outputs": [
    {
     "name": "stdout",
     "output_type": "stream",
     "text": [
      "1302/1302 [==============================] - 245s 188ms/step - loss: 2.2172 - accuracy: 0.7013\n",
      "279/279 [==============================] - 56s 199ms/step - loss: 2.4403 - accuracy: 0.6557\n",
      "Train loss: 2.2172207832336426\n",
      "Train accuracy: 0.7013234496116638\n",
      "Val loss: 2.440272808074951\n",
      "Val accuracy: 0.6557062864303589\n"
     ]
    }
   ],
   "source": [
    "# Evalua el modelo\n",
    "\n",
    "score_train = transformer.evaluate(train_ds)\n",
    "score_val = transformer.evaluate(val_ds)\n",
    "\n",
    "print('Train loss:', score_train[0])\n",
    "print('Train accuracy:', score_train[1])\n",
    "print('Val loss:', score_val[0])\n",
    "print('Val accuracy:', score_val[1])\n",
    "\n"
   ]
  },
  {
   "attachments": {},
   "cell_type": "markdown",
   "metadata": {},
   "source": [
    "## Traducción de frases"
   ]
  },
  {
   "cell_type": "code",
   "execution_count": 37,
   "metadata": {},
   "outputs": [
    {
     "name": "stdout",
     "output_type": "stream",
     "text": [
      "Input: Whatever happens, you must keep calm.\n",
      "Translated: [start] todo lo que tienes que hacer la [UNK] \n",
      "Input: You'll find nothing here.\n",
      "Translated: [start] no [UNK] nada aquí \n",
      "Input: I don't want spaghetti again tonight.\n",
      "Translated: [start] no quiero volver a esta noche \n",
      "Input: Tom drinks too much.\n",
      "Translated: [start] tom se [UNK] mucho \n",
      "Input: What's going on?\n",
      "Translated: [start] qué pasa \n",
      "Input: Birds always return to their nests.\n",
      "Translated: [start] los los los los [UNK] nunca se [UNK] \n",
      "Input: There is a castle in my town.\n",
      "Translated: [start] hay un corazón en mi ciudad \n",
      "Input: We all miss you very much.\n",
      "Translated: [start] todos te vamos mucho \n",
      "Input: What's your favorite game to play with friends?\n",
      "Translated: [start] cuál es tu juego de jugar con los amigos \n",
      "Input: Have you been fighting with the boy next door again?\n",
      "Translated: [start] has estado [UNK] con el niño que está [UNK] de nuevo \n",
      "Input: He got a lot of money.\n",
      "Translated: [start] Él tiene mucho dinero \n",
      "Input: That theater has a foreign film festival every other month.\n",
      "Translated: [start] ese diccionario tiene una película [UNK] de todos los libros \n",
      "Input: My parents are both dead.\n",
      "Translated: [start] mis padres están dos días \n",
      "Input: The police arrested the suspect yesterday.\n",
      "Translated: [start] la policía [UNK] al que el que [UNK] ayer \n",
      "Input: He did not want war.\n",
      "Translated: [start] Él no quería la guerra \n",
      "Input: I like to take a shower at night.\n",
      "Translated: [start] me gusta [UNK] \n",
      "Input: It depends on how strong it is.\n",
      "Translated: [start] eso es lo fuerte fuerte \n",
      "Input: I'm always hungry.\n",
      "Translated: [start] siempre estoy hambre \n",
      "Input: I had no one to turn to.\n",
      "Translated: [start] no tenía nadie a quien [UNK] \n",
      "Input: This is very cool.\n",
      "Translated: [start] esto es muy [UNK] \n",
      "Input: I know what I want to do.\n",
      "Translated: [start] sé lo que quiero hacer \n",
      "Input: What time do you turn the lights off?\n",
      "Translated: [start] a qué hora te [UNK] las vacaciones \n",
      "Input: \"What kind of music do you want to hear?\" \"Put on something romantic.\"\n",
      "Translated: [start] qué tipo de música quiere que quiere oír algo de algo \n",
      "Input: Who says we're not going to meet again?\n",
      "Translated: [start] quién dice que no nos va a volver a volver a volver a volver \n",
      "Input: He had three sons who became lawyers.\n",
      "Translated: [start] Él tuvo tres hijos se hizo \n",
      "Input: What does Tom get in return for all the work he's done?\n",
      "Translated: [start] qué tiene tom en el tiempo que [UNK] todo el trabajo \n",
      "Input: Before long, the moon came out.\n",
      "Translated: [start] antes de que la oscuridad salió \n",
      "Input: Tom has a bruise on his right leg.\n",
      "Translated: [start] tom tiene un [UNK] en su razón \n",
      "Input: It's no use asking him for help.\n",
      "Translated: [start] no tiene usar por su ayuda \n",
      "Input: There's someone here.\n",
      "Translated: [start] hay alguien aquí \n"
     ]
    }
   ],
   "source": [
    "spa_vocab = spa_vectorization.get_vocabulary()\n",
    "spa_index_lookup = dict(zip(range(len(spa_vocab)), spa_vocab))\n",
    "max_decoded_sentence_length = 20\n",
    "\n",
    "\n",
    "def decode_sequence(input_sentence):\n",
    "    tokenized_input_sentence = eng_vectorization([input_sentence])\n",
    "    decoded_sentence = \"[start]\"\n",
    "    for i in range(max_decoded_sentence_length):\n",
    "        tokenized_target_sentence = spa_vectorization([decoded_sentence])[\n",
    "            :, :-1]\n",
    "        predictions = transformer(\n",
    "            [tokenized_input_sentence, tokenized_target_sentence])\n",
    "\n",
    "        sampled_token_index = np.argmax(predictions[0, i, :])\n",
    "        sampled_token = spa_index_lookup[sampled_token_index]\n",
    "        decoded_sentence += \" \" + sampled_token\n",
    "\n",
    "        if sampled_token == \"[end]\":\n",
    "            break\n",
    "    return decoded_sentence\n",
    "\n",
    "dict=[]\n",
    "\n",
    "test_eng_texts = [pair[0] for pair in test_pairs]\n",
    "for _ in range(30):\n",
    "    input_sentence = random.choice(test_eng_texts)\n",
    "    translated = decode_sequence(input_sentence)\n",
    "    dict.append([input_sentence, translated[:-5]])\n",
    "    print(f\"Input: {input_sentence}\")\n",
    "    print(f\"Translated: {translated[:-5]}\")\n"
   ]
  },
  {
   "attachments": {},
   "cell_type": "markdown",
   "metadata": {},
   "source": [
    "## Evaluación de la métrica BLUE"
   ]
  },
  {
   "cell_type": "code",
   "execution_count": 41,
   "metadata": {},
   "outputs": [
    {
     "name": "stdout",
     "output_type": "stream",
     "text": [
      "Mean BLEU score -> 0.1741522063470984\n"
     ]
    },
    {
     "name": "stderr",
     "output_type": "stream",
     "text": [
      "/opt/homebrew/anaconda3/lib/python3.10/site-packages/nltk/translate/bleu_score.py:552: UserWarning: \n",
      "The hypothesis contains 0 counts of 3-gram overlaps.\n",
      "Therefore the BLEU score evaluates to 0, independently of\n",
      "how many N-gram overlaps of lower order it contains.\n",
      "Consider using lower n-gram order or use SmoothingFunction()\n",
      "  warnings.warn(_msg)\n",
      "/opt/homebrew/anaconda3/lib/python3.10/site-packages/nltk/translate/bleu_score.py:552: UserWarning: \n",
      "The hypothesis contains 0 counts of 4-gram overlaps.\n",
      "Therefore the BLEU score evaluates to 0, independently of\n",
      "how many N-gram overlaps of lower order it contains.\n",
      "Consider using lower n-gram order or use SmoothingFunction()\n",
      "  warnings.warn(_msg)\n",
      "/opt/homebrew/anaconda3/lib/python3.10/site-packages/nltk/translate/bleu_score.py:552: UserWarning: \n",
      "The hypothesis contains 0 counts of 2-gram overlaps.\n",
      "Therefore the BLEU score evaluates to 0, independently of\n",
      "how many N-gram overlaps of lower order it contains.\n",
      "Consider using lower n-gram order or use SmoothingFunction()\n",
      "  warnings.warn(_msg)\n"
     ]
    },
    {
     "data": {
      "text/html": [
       "<div>\n",
       "<style scoped>\n",
       "    .dataframe tbody tr th:only-of-type {\n",
       "        vertical-align: middle;\n",
       "    }\n",
       "\n",
       "    .dataframe tbody tr th {\n",
       "        vertical-align: top;\n",
       "    }\n",
       "\n",
       "    .dataframe thead th {\n",
       "        text-align: right;\n",
       "    }\n",
       "</style>\n",
       "<table border=\"1\" class=\"dataframe\">\n",
       "  <thead>\n",
       "    <tr style=\"text-align: right;\">\n",
       "      <th></th>\n",
       "      <th>reference</th>\n",
       "      <th>candidate</th>\n",
       "      <th>score</th>\n",
       "    </tr>\n",
       "  </thead>\n",
       "  <tbody>\n",
       "    <tr>\n",
       "      <th>0</th>\n",
       "      <td>Ella le entregó el dinero</td>\n",
       "      <td>ella le pasó el dinero</td>\n",
       "      <td>9.283143e-155</td>\n",
       "    </tr>\n",
       "    <tr>\n",
       "      <th>1</th>\n",
       "      <td>Tom nunca ha oído cantar a Mary</td>\n",
       "      <td>tom nunca ha oído cantar a mary</td>\n",
       "      <td>6.147882e-01</td>\n",
       "    </tr>\n",
       "    <tr>\n",
       "      <th>2</th>\n",
       "      <td>Tal vez ella venga mañana</td>\n",
       "      <td>tal vez ella vendrá mañana</td>\n",
       "      <td>9.283143e-155</td>\n",
       "    </tr>\n",
       "    <tr>\n",
       "      <th>3</th>\n",
       "      <td>Me encanta escribir</td>\n",
       "      <td>me encanta escribir</td>\n",
       "      <td>1.133423e-154</td>\n",
       "    </tr>\n",
       "    <tr>\n",
       "      <th>4</th>\n",
       "      <td>Su francés de él va mejorando poco a poco</td>\n",
       "      <td>su francés va a[UNK] sólo un poco</td>\n",
       "      <td>1.107720e-231</td>\n",
       "    </tr>\n",
       "    <tr>\n",
       "      <th>5</th>\n",
       "      <td>Mi hotel me dijo que te llamara</td>\n",
       "      <td>mi hotel me dijo que te[UNK][end]</td>\n",
       "      <td>4.301251e-01</td>\n",
       "    </tr>\n",
       "  </tbody>\n",
       "</table>\n",
       "</div>"
      ],
      "text/plain": [
       "                                   reference  \\\n",
       "0                  Ella le entregó el dinero   \n",
       "1            Tom nunca ha oído cantar a Mary   \n",
       "2                  Tal vez ella venga mañana   \n",
       "3                        Me encanta escribir   \n",
       "4  Su francés de él va mejorando poco a poco   \n",
       "5            Mi hotel me dijo que te llamara   \n",
       "\n",
       "                           candidate          score  \n",
       "0             ella le pasó el dinero  9.283143e-155  \n",
       "1    tom nunca ha oído cantar a mary   6.147882e-01  \n",
       "2         tal vez ella vendrá mañana  9.283143e-155  \n",
       "3                me encanta escribir  1.133423e-154  \n",
       "4  su francés va a[UNK] sólo un poco  1.107720e-231  \n",
       "5  mi hotel me dijo que te[UNK][end]   4.301251e-01  "
      ]
     },
     "execution_count": 41,
     "metadata": {},
     "output_type": "execute_result"
    }
   ],
   "source": [
    "\n",
    "\n",
    "references = [\n",
    "    \"Ella le entregó el dinero\",\n",
    "    \"Tom nunca ha oído cantar a Mary\",\n",
    "    \"Tal vez ella venga mañana\",\n",
    "    \"Me encanta escribir\",\n",
    "    \"Su francés de él va mejorando poco a poco\",\n",
    "    \"Mi hotel me dijo que te llamara\"\n",
    "\n",
    "]\n",
    "\n",
    "\n",
    "candidates = [\n",
    "    \"ella le pasó el dinero\",\n",
    "    \"tom nunca ha oído cantar a mary\",\n",
    "    \"tal vez ella vendrá mañana\",\n",
    "    \"me encanta escribir\",\n",
    "    \"su francés va a[UNK] sólo un poco\",\n",
    "    \"mi hotel me dijo que te[UNK][end]\"\n",
    "]\n",
    "\n",
    "score = 0\n",
    "scores = []\n",
    "for i in range(len(candidates)):\n",
    "    reference = [references[i].split()]\n",
    "    candidate = candidates[i].split()\n",
    "    blue = sentence_bleu(reference, candidate)\n",
    "    # guardar referencia canditada y score\n",
    "    scores.append([\" \".join(reference[0]), \" \".join(candidate), blue])\n",
    "    score += sentence_bleu(reference, candidate)\n",
    "\n",
    "# scores a dataframe\n",
    "scores = pd.DataFrame(scores, columns=['reference', 'candidate', 'score'])\n",
    "\n",
    "print('Mean BLEU score -> {}'.format(score/len(candidates)))\n",
    "scores\n"
   ]
  }
 ],
 "metadata": {
  "kernelspec": {
   "display_name": "base",
   "language": "python",
   "name": "python3"
  },
  "language_info": {
   "codemirror_mode": {
    "name": "ipython",
    "version": 3
   },
   "file_extension": ".py",
   "mimetype": "text/x-python",
   "name": "python",
   "nbconvert_exporter": "python",
   "pygments_lexer": "ipython3",
   "version": "3.10.9"
  },
  "orig_nbformat": 4
 },
 "nbformat": 4,
 "nbformat_minor": 2
}
