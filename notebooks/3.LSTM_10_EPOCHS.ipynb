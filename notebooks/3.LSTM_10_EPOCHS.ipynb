{
 "cells": [
  {
   "cell_type": "code",
   "execution_count": 115,
   "metadata": {},
   "outputs": [],
   "source": [
    "import pandas as pd\n",
    "import numpy as np\n",
    "import pickle\n",
    "\n",
    "from sklearn.model_selection import train_test_split\n",
    "\n",
    "import tensorflow as tf\n",
    "from tensorflow.keras.preprocessing.text import Tokenizer\n",
    "from tensorflow.keras.preprocessing.sequence import pad_sequences\n",
    "\n",
    "# importar callbacks\n",
    "from tensorflow.keras.callbacks import ModelCheckpoint\n",
    "# importar loadmodel\n",
    "from tensorflow.keras.models import load_model\n",
    "\n",
    "from tensorflow.keras.models import Sequential\n",
    "\n",
    "from tensorflow.keras.layers import Dense, Embedding, LSTM, RepeatVector, TimeDistributed, Dropout\n",
    "\n",
    "import matplotlib.pyplot as plt\n",
    "\n",
    "import nltk \n",
    "\n",
    "from nltk.translate.bleu_score import corpus_bleu\n",
    "\n"
   ]
  },
  {
   "cell_type": "code",
   "execution_count": 66,
   "metadata": {},
   "outputs": [
    {
     "data": {
      "text/html": [
       "<div>\n",
       "<style scoped>\n",
       "    .dataframe tbody tr th:only-of-type {\n",
       "        vertical-align: middle;\n",
       "    }\n",
       "\n",
       "    .dataframe tbody tr th {\n",
       "        vertical-align: top;\n",
       "    }\n",
       "\n",
       "    .dataframe thead th {\n",
       "        text-align: right;\n",
       "    }\n",
       "</style>\n",
       "<table border=\"1\" class=\"dataframe\">\n",
       "  <thead>\n",
       "    <tr style=\"text-align: right;\">\n",
       "      <th></th>\n",
       "      <th>source</th>\n",
       "      <th>target</th>\n",
       "      <th>preprocess_source</th>\n",
       "      <th>preprocess_target</th>\n",
       "    </tr>\n",
       "    <tr>\n",
       "      <th>id</th>\n",
       "      <th></th>\n",
       "      <th></th>\n",
       "      <th></th>\n",
       "      <th></th>\n",
       "    </tr>\n",
       "  </thead>\n",
       "  <tbody>\n",
       "    <tr>\n",
       "      <th>10151431</th>\n",
       "      <td>I always say that one of the most important th...</td>\n",
       "      <td>Siempre digo que una de las cosas más importan...</td>\n",
       "      <td>&lt;start&gt; i always say that one of the most impo...</td>\n",
       "      <td>&lt;start&gt; siempre digo que una de las cosas mas ...</td>\n",
       "    </tr>\n",
       "    <tr>\n",
       "      <th>5014881</th>\n",
       "      <td>Francis spent every night when he was outside ...</td>\n",
       "      <td>Francisco pasó todas las noches que estuvo fue...</td>\n",
       "      <td>&lt;start&gt; francis spent every night when he was ...</td>\n",
       "      <td>&lt;start&gt; francisco paso todas las noches que es...</td>\n",
       "    </tr>\n",
       "    <tr>\n",
       "      <th>9998244</th>\n",
       "      <td>Find Google- remove your Gmail account.</td>\n",
       "      <td>Encontrar Google- eliminar su cuenta de Gmail.</td>\n",
       "      <td>&lt;start&gt; find google remove your gmail account ...</td>\n",
       "      <td>&lt;start&gt; encontrar google eliminar su cuenta de...</td>\n",
       "    </tr>\n",
       "    <tr>\n",
       "      <th>11709695</th>\n",
       "      <td>Anyways, apart from that the movie was finalized.</td>\n",
       "      <td>De todos modos, aparte de eso, la película fue...</td>\n",
       "      <td>&lt;start&gt; anyways apart from that the movie was ...</td>\n",
       "      <td>&lt;start&gt; de todos modos aparte de eso la pelicu...</td>\n",
       "    </tr>\n",
       "    <tr>\n",
       "      <th>5267593</th>\n",
       "      <td>Graphics Programming Black Book and the mindse...</td>\n",
       "      <td>El Libro Negro de la Programación Gráfica y la...</td>\n",
       "      <td>&lt;start&gt; graphics programming black book and th...</td>\n",
       "      <td>&lt;start&gt; el libro negro de la programacion graf...</td>\n",
       "    </tr>\n",
       "  </tbody>\n",
       "</table>\n",
       "</div>"
      ],
      "text/plain": [
       "                                                     source   \n",
       "id                                                            \n",
       "10151431  I always say that one of the most important th...  \\\n",
       "5014881   Francis spent every night when he was outside ...   \n",
       "9998244             Find Google- remove your Gmail account.   \n",
       "11709695  Anyways, apart from that the movie was finalized.   \n",
       "5267593   Graphics Programming Black Book and the mindse...   \n",
       "\n",
       "                                                     target   \n",
       "id                                                            \n",
       "10151431  Siempre digo que una de las cosas más importan...  \\\n",
       "5014881   Francisco pasó todas las noches que estuvo fue...   \n",
       "9998244      Encontrar Google- eliminar su cuenta de Gmail.   \n",
       "11709695  De todos modos, aparte de eso, la película fue...   \n",
       "5267593   El Libro Negro de la Programación Gráfica y la...   \n",
       "\n",
       "                                          preprocess_source   \n",
       "id                                                            \n",
       "10151431  <start> i always say that one of the most impo...  \\\n",
       "5014881   <start> francis spent every night when he was ...   \n",
       "9998244   <start> find google remove your gmail account ...   \n",
       "11709695  <start> anyways apart from that the movie was ...   \n",
       "5267593   <start> graphics programming black book and th...   \n",
       "\n",
       "                                          preprocess_target  \n",
       "id                                                           \n",
       "10151431  <start> siempre digo que una de las cosas mas ...  \n",
       "5014881   <start> francisco paso todas las noches que es...  \n",
       "9998244   <start> encontrar google eliminar su cuenta de...  \n",
       "11709695  <start> de todos modos aparte de eso la pelicu...  \n",
       "5267593   <start> el libro negro de la programacion graf...  "
      ]
     },
     "execution_count": 66,
     "metadata": {},
     "output_type": "execute_result"
    }
   ],
   "source": [
    "# Importar archivo .csv\n",
    "df = pd.read_csv('../File/df_corpus_linguistico_preprocesado.csv',\n",
    "                 sep='\\t', encoding='utf-8', index_col=0)\n",
    "df.head()\n"
   ]
  },
  {
   "cell_type": "code",
   "execution_count": 68,
   "metadata": {},
   "outputs": [
    {
     "data": {
      "text/plain": [
       "(100000, 4)"
      ]
     },
     "execution_count": 68,
     "metadata": {},
     "output_type": "execute_result"
    }
   ],
   "source": [
    "df.shape"
   ]
  },
  {
   "cell_type": "code",
   "execution_count": 69,
   "metadata": {},
   "outputs": [],
   "source": [
    "en_text = df['preprocess_source']\n",
    "es_text = df['preprocess_target']\n"
   ]
  },
  {
   "attachments": {},
   "cell_type": "markdown",
   "metadata": {},
   "source": [
    "# Tokenizar frases\n"
   ]
  },
  {
   "cell_type": "code",
   "execution_count": 77,
   "metadata": {},
   "outputs": [],
   "source": [
    "# Función para tokenizar el texto\n",
    "def tokenization(lines):\n",
    "    tokenizer = Tokenizer(num_words=10000)              \n",
    "    tokenizer.fit_on_texts(lines)\n",
    "    return tokenizer\n"
   ]
  },
  {
   "cell_type": "code",
   "execution_count": 78,
   "metadata": {},
   "outputs": [
    {
     "name": "stdout",
     "output_type": "stream",
     "text": [
      "English Vocabulary Size: 43725\n",
      "English Max Length: 108\n"
     ]
    }
   ],
   "source": [
    "# Tokenizar el texto en inglés\n",
    "en_tokenizer = tokenization(en_text)                   # num_words=10000 -> 10.000 palabras más frecuentes del corpus de inglés (source)\n",
    "en_vocab_size = len(en_tokenizer.word_index) + 1\n",
    "\n",
    "en_length = max(len(line.split()) for line in en_text)\n",
    "print(f'English Vocabulary Size: {en_vocab_size}')\n",
    "print(f'English Max Length: {en_length}')\n"
   ]
  },
  {
   "cell_type": "code",
   "execution_count": 79,
   "metadata": {},
   "outputs": [
    {
     "name": "stdout",
     "output_type": "stream",
     "text": [
      "Spanish Vocabulary Size: 56158\n",
      "Spanish Max Length: 109\n"
     ]
    }
   ],
   "source": [
    "# Tokenizar el texto en español\n",
    "es_tokenizer = tokenization(es_text)                   # num_words=10000 -> 10.000 palabras más frecuentes del corpus de español (target\n",
    "es_vocab_size = len(es_tokenizer.word_index) + 1\n",
    "\n",
    "es_length = max(len(line.split()) for line in es_text)\n",
    "print(f'Spanish Vocabulary Size: {es_vocab_size}')\n",
    "print(f'Spanish Max Length: {es_length}')"
   ]
  },
  {
   "attachments": {},
   "cell_type": "markdown",
   "metadata": {},
   "source": [
    "## Gráfica de distribución de longitud de las frases"
   ]
  },
  {
   "cell_type": "code",
   "execution_count": 81,
   "metadata": {},
   "outputs": [
    {
     "data": {
      "image/png": "[encoded data removed]",
      "text/plain": [
       "<Figure size 640x480 with 1 Axes>"
      ]
     },
     "metadata": {},
     "output_type": "display_data"
    },
    {
     "data": {
      "image/png": "[encoded data removed]",
      "text/plain": [
       "<Figure size 640x480 with 1 Axes>"
      ]
     },
     "metadata": {},
     "output_type": "display_data"
    }
   ],
   "source": [
    "# Gráfica de distribución de longitud de las frases\n",
    "\n",
    "\n",
    "length_en_text = [len(line.split()) for line in en_text]\n",
    "length_es_text = [len(line.split()) for line in es_text]\n",
    "\n",
    "plt.hist(length_en_text, bins=30)\n",
    "# Etiquetas\n",
    "plt.xlabel('Length of Source Text')\n",
    "plt.ylabel('Number of Source Text')\n",
    "plt.title('Source Text Length Distribution')\n",
    "plt.show()\n",
    "\n",
    "plt.hist(length_es_text, bins=30)\n",
    "# Etiquetas\n",
    "plt.xlabel('Length of Target Text')\n",
    "plt.ylabel('Number of Target Text')\n",
    "plt.title('Target Text Length Distribution')\n",
    "plt.show()\n",
    "\n"
   ]
  },
  {
   "attachments": {},
   "cell_type": "markdown",
   "metadata": {},
   "source": [
    "Nota: \n",
    "Luego de representar gráficamente la distribución de la longitud de las frases, se observa una distribución sesgada hacia la derecha, por lo que se procede a truncar las frases a un máximo de 40 palabras."
   ]
  },
  {
   "cell_type": "code",
   "execution_count": 82,
   "metadata": {},
   "outputs": [],
   "source": [
    "en_length = 40\n",
    "es_length = 40"
   ]
  },
  {
   "attachments": {},
   "cell_type": "markdown",
   "metadata": {},
   "source": [
    "## Gráfico con el total de palabras únicas de cada idioma en el corpus "
   ]
  },
  {
   "cell_type": "code",
   "execution_count": 83,
   "metadata": {},
   "outputs": [
    {
     "data": {
      "image/png": "[encoded data removed]",
      "text/plain": [
       "<Figure size 640x480 with 1 Axes>"
      ]
     },
     "metadata": {},
     "output_type": "display_data"
    }
   ],
   "source": [
    "\n",
    "plt.bar(['English', 'Spanish'], [en_vocab_size, es_vocab_size])\n",
    "# Etiquetas\n",
    "plt.xlabel('Language')\n",
    "plt.ylabel('Unique Words')\n",
    "plt.title('Number of Unique Words in the Corpus')\n",
    "\n",
    "plt.show()"
   ]
  },
  {
   "attachments": {},
   "cell_type": "markdown",
   "metadata": {},
   "source": [
    "Nota: \n",
    "Se puede observar que el número de palabras únicas en el corpus asciende a más de 40.000 palabras en ambos idiomas. Se decide tomar las 10.000 palabras más frecuentes en el corpus para reducir el tamaño del vocabulario y mejorar el rendimiento del modelo.\n"
   ]
  },
  {
   "attachments": {},
   "cell_type": "markdown",
   "metadata": {},
   "source": [
    "## Codificar secuencias de texto a entero"
   ]
  },
  {
   "cell_type": "code",
   "execution_count": 84,
   "metadata": {},
   "outputs": [],
   "source": [
    "\n",
    "def encode_sequences(tokenizer, length, lines):\n",
    "    # Entrenar el modelo de codificación\n",
    "    seq = tokenizer.texts_to_sequences(lines)\n",
    "    # Rellenar las secuencias con 0's para que tengan la misma longitud\n",
    "    seq = pad_sequences(seq, maxlen=length, padding='post')\n",
    "    return seq\n"
   ]
  },
  {
   "cell_type": "code",
   "execution_count": 85,
   "metadata": {},
   "outputs": [],
   "source": [
    "# Dividir el dataset en train y test\n",
    "\n",
    "train, test = train_test_split(df, test_size=0.2, random_state=42)\n"
   ]
  },
  {
   "cell_type": "code",
   "execution_count": 86,
   "metadata": {},
   "outputs": [],
   "source": [
    "# Codificar el texto en inglés\n",
    "trainX = encode_sequences(en_tokenizer, en_length, train['preprocess_source'])\n",
    "testX = encode_sequences(en_tokenizer, en_length, test['preprocess_source'])\n",
    "\n",
    "# Codificar el texto en español\n",
    "trainY = encode_sequences(es_tokenizer, es_length, train['preprocess_target'])\n",
    "testY = encode_sequences(es_tokenizer, es_length, test['preprocess_target'])\n"
   ]
  },
  {
   "attachments": {},
   "cell_type": "markdown",
   "metadata": {},
   "source": [
    "## Definir el modelo"
   ]
  },
  {
   "cell_type": "code",
   "execution_count": 87,
   "metadata": {},
   "outputs": [],
   "source": [
    "# Definir el modelo\n",
    "def define_model(in_vocab, out_vocab, in_timesteps, out_timesteps, units):\n",
    "    model = Sequential()\n",
    "    model.add(Embedding(in_vocab, units,\n",
    "              input_length=in_timesteps, mask_zero=True))\n",
    "    model.add(LSTM(units))\n",
    "    model.add(RepeatVector(out_timesteps))\n",
    "    model.add(LSTM(units, return_sequences=True))\n",
    "    model.add(TimeDistributed(Dense(out_vocab, activation='softmax')))\n",
    "    return model\n"
   ]
  },
  {
   "cell_type": "code",
   "execution_count": 88,
   "metadata": {},
   "outputs": [],
   "source": [
    "en_vocab_size = 10000\n",
    "es_vocab_size = 10000"
   ]
  },
  {
   "cell_type": "code",
   "execution_count": 89,
   "metadata": {},
   "outputs": [],
   "source": [
    "\n",
    "model = define_model(en_vocab_size, es_vocab_size, en_length, es_length, 128)\n"
   ]
  },
  {
   "cell_type": "code",
   "execution_count": 90,
   "metadata": {},
   "outputs": [
    {
     "name": "stdout",
     "output_type": "stream",
     "text": [
      "Model: \"sequential_2\"\n",
      "_________________________________________________________________\n",
      " Layer (type)                Output Shape              Param #   \n",
      "=================================================================\n",
      " embedding_2 (Embedding)     (None, 40, 128)           1280000   \n",
      "                                                                 \n",
      " lstm_4 (LSTM)               (None, 128)               131584    \n",
      "                                                                 \n",
      " repeat_vector_2 (RepeatVect  (None, 40, 128)          0         \n",
      " or)                                                             \n",
      "                                                                 \n",
      " lstm_5 (LSTM)               (None, 40, 128)           131584    \n",
      "                                                                 \n",
      " time_distributed_2 (TimeDis  (None, 40, 10000)        1290000   \n",
      " tributed)                                                       \n",
      "                                                                 \n",
      "=================================================================\n",
      "Total params: 2,833,168\n",
      "Trainable params: 2,833,168\n",
      "Non-trainable params: 0\n",
      "_________________________________________________________________\n",
      "None\n"
     ]
    }
   ],
   "source": [
    "\n",
    "model.compile(optimizer= 'adam', loss='sparse_categorical_crossentropy', metrics=['accuracy'])\n",
    "\n",
    "# Resumen del modelo\n",
    "print(model.summary())\n"
   ]
  },
  {
   "cell_type": "code",
   "execution_count": 92,
   "metadata": {},
   "outputs": [
    {
     "name": "stdout",
     "output_type": "stream",
     "text": [
      "Epoch 1/10\n",
      "313/313 [==============================] - ETA: 0s - loss: 2.8245 - accuracy: 0.6519\n",
      "Epoch 1: val_loss improved from inf to 2.30554, saving model to ../File/Model/model.h5\n",
      "313/313 [==============================] - 341s 1s/step - loss: 2.8245 - accuracy: 0.6519 - val_loss: 2.3055 - val_accuracy: 0.6744\n",
      "Epoch 2/10\n",
      "313/313 [==============================] - ETA: 0s - loss: 2.2067 - accuracy: 0.6780\n",
      "Epoch 2: val_loss improved from 2.30554 to 2.14196, saving model to ../File/Model/model.h5\n",
      "313/313 [==============================] - 372s 1s/step - loss: 2.2067 - accuracy: 0.6780 - val_loss: 2.1420 - val_accuracy: 0.6850\n",
      "Epoch 3/10\n",
      "313/313 [==============================] - ETA: 0s - loss: 2.1303 - accuracy: 0.6854\n",
      "Epoch 3: val_loss improved from 2.14196 to 2.11276, saving model to ../File/Model/model.h5\n",
      "313/313 [==============================] - 378s 1s/step - loss: 2.1303 - accuracy: 0.6854 - val_loss: 2.1128 - val_accuracy: 0.6892\n",
      "Epoch 4/10\n",
      "313/313 [==============================] - ETA: 0s - loss: 2.1152 - accuracy: 0.6882\n",
      "Epoch 4: val_loss improved from 2.11276 to 2.10725, saving model to ../File/Model/model.h5\n",
      "313/313 [==============================] - 569s 2s/step - loss: 2.1152 - accuracy: 0.6882 - val_loss: 2.1073 - val_accuracy: 0.6899\n",
      "Epoch 5/10\n",
      "313/313 [==============================] - ETA: 0s - loss: 2.1048 - accuracy: 0.6890\n",
      "Epoch 5: val_loss did not improve from 2.10725\n",
      "313/313 [==============================] - 382s 1s/step - loss: 2.1048 - accuracy: 0.6890 - val_loss: 2.1082 - val_accuracy: 0.6900\n",
      "Epoch 6/10\n",
      "313/313 [==============================] - ETA: 0s - loss: 2.0983 - accuracy: 0.6895\n",
      "Epoch 6: val_loss improved from 2.10725 to 2.10558, saving model to ../File/Model/model.h5\n",
      "313/313 [==============================] - 390s 1s/step - loss: 2.0983 - accuracy: 0.6895 - val_loss: 2.1056 - val_accuracy: 0.6892\n",
      "Epoch 7/10\n",
      "313/313 [==============================] - ETA: 0s - loss: 2.0925 - accuracy: 0.6899\n",
      "Epoch 7: val_loss improved from 2.10558 to 2.10556, saving model to ../File/Model/model.h5\n",
      "313/313 [==============================] - 594s 2s/step - loss: 2.0925 - accuracy: 0.6899 - val_loss: 2.1056 - val_accuracy: 0.6897\n",
      "Epoch 8/10\n",
      "313/313 [==============================] - ETA: 0s - loss: 2.0866 - accuracy: 0.6904\n",
      "Epoch 8: val_loss did not improve from 2.10556\n",
      "313/313 [==============================] - 398s 1s/step - loss: 2.0866 - accuracy: 0.6904 - val_loss: 2.1080 - val_accuracy: 0.6892\n",
      "Epoch 9/10\n",
      "313/313 [==============================] - ETA: 0s - loss: 2.0834 - accuracy: 0.6906\n",
      "Epoch 9: val_loss did not improve from 2.10556\n",
      "313/313 [==============================] - 591s 2s/step - loss: 2.0834 - accuracy: 0.6906 - val_loss: 2.1120 - val_accuracy: 0.6873\n",
      "Epoch 10/10\n",
      "313/313 [==============================] - ETA: 0s - loss: 2.0777 - accuracy: 0.6911\n",
      "Epoch 10: val_loss did not improve from 2.10556\n",
      "313/313 [==============================] - 419s 1s/step - loss: 2.0777 - accuracy: 0.6911 - val_loss: 2.1116 - val_accuracy: 0.6879\n"
     ]
    }
   ],
   "source": [
    "filename = '../File/Model/model.h5'\n",
    "checkpoint = ModelCheckpoint(filename, monitor='val_loss', verbose=1, save_best_only=True, mode='min')\n",
    "\n",
    "history =  model.fit(trainX, trainY, \n",
    "                     \n",
    "                     epochs=10, batch_size=256, validation_data=(testX, testY), callbacks=[checkpoint] , verbose=1)  \n",
    "\n"
   ]
  },
  {
   "cell_type": "code",
   "execution_count": 93,
   "metadata": {},
   "outputs": [],
   "source": [
    "# Cargar el modelo\n",
    "model = load_model('../File/Model/model.h5')"
   ]
  },
  {
   "attachments": {},
   "cell_type": "markdown",
   "metadata": {},
   "source": [
    "## Evaluación del modelo"
   ]
  },
  {
   "cell_type": "code",
   "execution_count": 94,
   "metadata": {},
   "outputs": [
    {
     "name": "stdout",
     "output_type": "stream",
     "text": [
      "2500/2500 [==============================] - 175s 70ms/step - loss: 2.0795 - accuracy: 0.6903\n",
      "Train loss: 2.079538583755493\n",
      "Train accuracy: 0.6902587413787842\n",
      "625/625 [==============================] - 50s 80ms/step - loss: 2.1056 - accuracy: 0.6897\n",
      "Test loss: 2.1055636405944824\n",
      "Test accuracy: 0.6897324919700623\n"
     ]
    }
   ],
   "source": [
    "# Evaluar el modelo\n",
    "\n",
    "score_train = model.evaluate(trainX, trainY)\n",
    "\n",
    "print('Train loss:', score_train[0])        \n",
    "print('Train accuracy:', score_train[1])\n",
    "\n",
    "score_test = model.evaluate(testX, testY)\n",
    "\n",
    "print('Test loss:', score_test[0])\n",
    "print('Test accuracy:', score_test[1])"
   ]
  },
  {
   "attachments": {},
   "cell_type": "markdown",
   "metadata": {},
   "source": [
    "Nota:<br><br>\n",
    "En el conjunto de entrenamiento, la pérdida (loss) es de aproximadamente 2.0795 y la precisión (accuracy) es de alrededor del 69.03%. Esto indica que el modelo ha logrado ajustarse a los datos de entrenamiento y puede predecir correctamente el 69.03% de las frases en este conjunto.\n",
    "\n",
    "En el conjunto de prueba, la pérdida es de aproximadamente 2.1056 y la precisión es de alrededor del 68.97%. Estos resultados son similares a los obtenidos en el conjunto de entrenamiento, lo cual es un indicio de que el modelo no está sobreajustado y generaliza bien a datos no vistos previamente.\n",
    "\n",
    "Con un tamaño de vocabulario de 10,000 palabras únicas y 100,000 muestras de entrenamiento se logró una precisión del 68.97% en el conjunto de prueba, siendo bastante bueno, considerando que hay una gran cantidad de palabras y muestras involucradas.\n",
    "\n",
    "El modelo LSTM está aprendiendo patrones relevantes para la traducción de frases de inglés a español y que tiene un desempeño razonablemente bueno en términos de precisión.\n",
    "\n",
    "Pero se debe evaluar otras métricas para ver cuán bien está generalizando el modelo"
   ]
  },
  {
   "attachments": {},
   "cell_type": "markdown",
   "metadata": {},
   "source": [
    "### Gráfica sobre los valores de pérdida y presición del historial del modelo"
   ]
  },
  {
   "cell_type": "code",
   "execution_count": 96,
   "metadata": {},
   "outputs": [
    {
     "data": {
      "image/png": "[encoded data removed]",
      "text/plain": [
       "<Figure size 640x480 with 1 Axes>"
      ]
     },
     "metadata": {},
     "output_type": "display_data"
    },
    {
     "data": {
      "image/png": "[encoded data removed]",
      "text/plain": [
       "<Figure size 640x480 with 1 Axes>"
      ]
     },
     "metadata": {},
     "output_type": "display_data"
    }
   ],
   "source": [
    "# Valores de pérdida y precisión del historial\n",
    "train_loss = history.history['loss']\n",
    "val_loss = history.history['val_loss']\n",
    "train_acc = history.history['accuracy']\n",
    "val_acc = history.history['val_accuracy']\n",
    "\n",
    "# Gráfica de la pérdida\n",
    "plt.plot(train_loss)\n",
    "plt.plot(val_loss)\n",
    "plt.legend(['train', 'val'])\n",
    "plt.title('Loss')\n",
    "plt.xlabel('Epochs')\n",
    "plt.ylabel('Loss')\n",
    "plt.show()\n",
    "\n",
    "# Gráfica de la precisión\n",
    "plt.plot(train_acc)\n",
    "plt.plot(val_acc)\n",
    "plt.legend(['train', 'val'])\n",
    "plt.title('Accuracy')\n",
    "plt.xlabel('Epochs')\n",
    "plt.ylabel('Accuracy')\n",
    "plt.show()"
   ]
  },
  {
   "cell_type": "code",
   "execution_count": null,
   "metadata": {},
   "outputs": [],
   "source": [
    "*Gráfica de Pérdida:*\n",
    "# La gráfica de pérdida muestra cómo la pérdida (error) del modelo evoluciona a lo largo de las épocas de entrenamiento.\n",
    "# El eje horizontal representa el número de épocas, mientras que el eje vertical representa el valor de pérdida.\n",
    "# Se muestra que la pérdida va disminuyendo a medida que aumentan las épocas.\n",
    "# Se observa que la línea de pérdida de entrenamiento (train loss) disminuye y se mantiene cerca de la línea de pérdida de validación (validation loss), indica que el modelo está aprendiendo correctamente y generalizando bien.\n",
    "# Más menos en la época 5, la línea de pérdida de validación (validation loss) comienza a aumentar, lo que indica que el modelo está sobreajustando (overfitting) los datos de entrenamiento. Esto significa que el modelo está aprendiendo demasiado bien los datos de entrenamiento y no generaliza bien los datos de validación.\n",
    "# El mejor modelo es en la época 4, ya que la línea de pérdida de validación (validation loss) es la más baja.\n",
    "\n",
    "Sin embargo, si hay una brecha significativa entre la pérdida de entrenamiento y la pérdida de validación, puede ser un signo de sobreajuste (overfitting), lo que significa que el modelo se ha ajustado demasiado a los datos de entrenamiento y no generaliza bien."
   ]
  },
  {
   "attachments": {},
   "cell_type": "markdown",
   "metadata": {},
   "source": [
    "*Gráfica de Precisión:*\n",
    "La gráfica de precisión muestra cómo la precisión del modelo evoluciona a lo largo de las épocas de entrenamiento.\n",
    "El eje horizontal representa el número de épocas, mientras que el eje vertical representa el valor de precisión.\n",
    "Se observa que la precisión aumente a medida que aumentan las épocas.\n",
    "Si la precisión de entrenamiento (train accuracy) aumenta y se mantiene cerca de la precisión de validación (validation accuracy), indica que el modelo está aprendiendo correctamente y generalizando bien.\n",
    "Si hay una brecha significativa entre la precisión de entrenamiento y la precisión de validación, puede ser un signo de sobreajuste (overfitting)."
   ]
  },
  {
   "attachments": {},
   "cell_type": "markdown",
   "metadata": {},
   "source": [
    "En resumen, durante el entrenamiento:\n",
    "\n",
    "Queremos que la pérdida disminuya y la precisión aumente.\n",
    "Queremos que las líneas de entrenamiento y validación sigan trayectorias similares, sin grandes brechas entre ellas.\n",
    "Estas gráficas te brindan información visual sobre cómo el modelo está progresando durante el entrenamiento. Si observas que la pérdida no disminuye o la precisión no mejora, es posible que debas ajustar hiperparámetros, cambiar la arquitectura del modelo o aumentar la cantidad de datos de entrenamiento.\n",
    "\n",
    "Recuerda que también es importante tener en cuenta otros aspectos del rendimiento del modelo, como las métricas de evaluación (por ejemplo, BLEU, METEOR, ROUGE) y realizar una revisión manual de las traducciones generadas para tener una evaluación más completa del desempeño de tu modelo de traducción."
   ]
  },
  {
   "attachments": {},
   "cell_type": "markdown",
   "metadata": {},
   "source": [
    "## Predecir"
   ]
  },
  {
   "cell_type": "code",
   "execution_count": 105,
   "metadata": {},
   "outputs": [],
   "source": [
    "# Función get_word\n",
    "\n",
    "def get_word(n, tokenizer):\n",
    "    for word, index in tokenizer.word_index.items():\n",
    "        if index == n:\n",
    "            return word\n",
    "    return None"
   ]
  },
  {
   "cell_type": "code",
   "execution_count": 106,
   "metadata": {},
   "outputs": [],
   "source": [
    "# Función para predecir una secuencia\n",
    "\n",
    "def predict_sequence(model, input_sentence):\n",
    "    inputs = []\n",
    "    for i in input_sentence.split():\n",
    "        if i in en_tokenizer.word_index:\n",
    "            inputs.append(en_tokenizer.word_index[i])\n",
    "\n",
    "    inputs = pad_sequences([inputs], maxlen=en_length, padding='post')\n",
    "\n",
    "    temp = []\n",
    "    for i in inputs[0]:\n",
    "        t = get_word(i, es_tokenizer)\n",
    "        if i > 0:\n",
    "            if (t == get_word(i-1, es_tokenizer)) or (t == None):\n",
    "                temp.append('')\n",
    "            else:\n",
    "                temp.append(t)\n",
    "        else:\n",
    "            if (t == None):\n",
    "                temp.append('')\n",
    "            else:\n",
    "                temp.append(t)\n",
    "\n",
    "    print(' '.join(temp)) \n",
    "\n",
    "# Función para prededir varias secuencias\n",
    "def predict_multiple_sequences(model, input_sentences):\n",
    "    for i in input_sentences:\n",
    "        predict_sequence(model, i)\n",
    "        print('\\n')\n"
   ]
  },
  {
   "cell_type": "code",
   "execution_count": 114,
   "metadata": {},
   "outputs": [
    {
     "name": "stdout",
     "output_type": "stream",
     "text": [
      "que estaba es                                     \n"
     ]
    }
   ],
   "source": [
    "predict_sequence(model, 'i love you')"
   ]
  },
  {
   "cell_type": "code",
   "execution_count": 112,
   "metadata": {},
   "outputs": [
    {
     "data": {
      "text/plain": [
       "id\n",
       "9195670                      <start> para el quad de ?  <end>\n",
       "3353300           <start> avestruz y corral lo tengo .  <end>\n",
       "5137219     <start> te da algo de estabilidad cuando tiene...\n",
       "5759567     <start> sus canciones estan bien wrought y en ...\n",
       "3761092     <start> a continuacion mi valoracion de las ca...\n",
       "5158646     <start> queda muy bien con el banco de clavija...\n",
       "3364697                     <start> la trufa blanca es  <end>\n",
       "1190033     <start> no necesito estar comodo mientras el g...\n",
       "11782773    <start> podria seguir durante mucho tiempo de ...\n",
       "11375468    <start> wordpress es un sistema de gestion de ...\n",
       "Name: preprocess_target, dtype: object"
      ]
     },
     "execution_count": 112,
     "metadata": {},
     "output_type": "execute_result"
    }
   ],
   "source": [
    "test['preprocess_target'][30:40]"
   ]
  },
  {
   "cell_type": "code",
   "execution_count": 113,
   "metadata": {},
   "outputs": [
    {
     "name": "stdout",
     "output_type": "stream",
     "text": [
      "una de un tradicionalmente                                    \n",
      "\n",
      "\n",
      "interactue y tocaba sea no                                   \n",
      "\n",
      "\n",
      "pocos es sobre adivina tengo es las la dijeron y a solo una ligeramente por el bonitas un de jugador la meses mucho en de antes              \n",
      "\n",
      "\n",
      "ya nuestra este estos oficios y por historia constantemente ya hice en alfiler gusto interminables ademas                        \n",
      "\n",
      "\n",
      "puerta a como fuerza comedia                                   \n",
      "\n",
      "\n",
      "hubiera solo me de toallas el juro barrios                                \n",
      "\n",
      "\n",
      "de contenido promocional a                                    \n",
      "\n",
      "\n",
      "que te se lugar la del queda mas leer mas de envio a nuestro                          \n",
      "\n",
      "\n",
      "que cada parte por una altas tener pero no con hay los desde a                          \n",
      "\n",
      "\n",
      "caracteristica a el equipo minimo sigue gente la tenian rango suelo                             \n",
      "\n",
      "\n"
     ]
    }
   ],
   "source": [
    "predict_multiple_sequences(model, test['preprocess_source'][30:40])\n"
   ]
  },
  {
   "cell_type": "code",
   "execution_count": 69,
   "metadata": {},
   "outputs": [],
   "source": [
    "input_sentence = 'My friends are cool'\n",
    "\n",
    "inputs = []\n",
    "for i in input_sentence.split():\n",
    "    if i in en_tokenizer.word_index:\n",
    "        inputs.append(en_tokenizer.word_index[i])\n",
    "\n",
    "inputs = pad_sequences([inputs], maxlen=en_length, padding='post')"
   ]
  },
  {
   "cell_type": "code",
   "execution_count": 70,
   "metadata": {},
   "outputs": [
    {
     "name": "stdout",
     "output_type": "stream",
     "text": [
      "compra me libre                                         \n"
     ]
    }
   ],
   "source": [
    "temp = []\n",
    "for i in inputs[0]:\n",
    "    t = get_word(i, es_tokenizer)\n",
    "    if i > 0:\n",
    "        if (t == get_word(i-1, es_tokenizer)) or (t == None):\n",
    "            temp.append('')\n",
    "        else:\n",
    "            temp.append(t)\n",
    "    else:\n",
    "        if (t == None):\n",
    "            temp.append('')\n",
    "        else:\n",
    "            temp.append(t)\n",
    "\n",
    "print(' '.join(temp))            \n"
   ]
  }
 ],
 "metadata": {
  "kernelspec": {
   "display_name": "deep_learning",
   "language": "python",
   "name": "python3"
  },
  "language_info": {
   "codemirror_mode": {
    "name": "ipython",
    "version": 3
   },
   "file_extension": ".py",
   "mimetype": "text/x-python",
   "name": "python",
   "nbconvert_exporter": "python",
   "pygments_lexer": "ipython3",
   "version": "3.9.16"
  },
  "orig_nbformat": 4
 },
 "nbformat": 4,
 "nbformat_minor": 2
}
