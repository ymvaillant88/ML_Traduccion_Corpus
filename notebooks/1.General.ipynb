{
 "cells": [
  {
   "attachments": {},
   "cell_type": "markdown",
   "metadata": {},
   "source": [
    "# Proyecto: Traductor de corpus lingüístico de inglés a español\n",
    "\n",
    "#### Creación: 06/05/2022\n",
    "#### Última modificación: 15/05/2022\n",
    "#### Python versión: 3.6.9\n"
   ]
  },
  {
   "attachments": {},
   "cell_type": "markdown",
   "metadata": {},
   "source": [
    "## Descripción:\n",
    "- Crear un modelo que permita traducir frases de inglés a español de forma automática.\n",
    "- El modelo se entrenará con un corpus lingüístico de frases en inglés y su traducción al español."
   ]
  },
  {
   "attachments": {},
   "cell_type": "markdown",
   "metadata": {},
   "source": [
    "\n",
    "## Aspectos a tener en cuenta:\n",
    "1. Recopilar un corpus lingüístico de frases en inglés y español.\n",
    "2. Preprocesar el corpus lingüístico para su uso en el modelo (incluye limpieza y preparación del texto).\n",
    "3. Entrenar un modelo de traducción de inglés a español.\n",
    "4. Evaluar el modelo de traducción de inglés a español.\n",
    "5. Realizar predicciones con el modelo de traducción de inglés a español.\n"
   ]
  },
  {
   "attachments": {},
   "cell_type": "markdown",
   "metadata": {},
   "source": [
    "## Tokenización y limpieza de datos con NLTK\n"
   ]
  },
  {
   "attachments": {},
   "cell_type": "markdown",
   "metadata": {},
   "source": [
    "*Aspectos a tener en cuenta para la limpieza de texto:*"
   ]
  },
  {
   "attachments": {},
   "cell_type": "markdown",
   "metadata": {},
   "source": [
    "### 1. **Normalizar cáracteres unicode**"
   ]
  },
  {
   "attachments": {},
   "cell_type": "markdown",
   "metadata": {},
   "source": [
    "**Cáracteres unicode:** son carácteres de los sistemas de escritura, símbolos matemáticos, símbolos monetarios, emojis y muchos otros caracteres especiales.\n",
    "\n",
    "**Normalización de los carácteres unicode:** el objetivo es transformar los carácteres unicode en su forma más simple y compatible con el inglés.\n",
    "- Esto se hace para evitar que el modelo tenga que aprender a reconocer diferentes formas de escribir una misma palabra.\n",
    "- Elimina los acentos y diéresis de las palabras (no afecta al significado de las palabras).\n",
    "- Elimina los emojis y símbolos matemáticos que no aportan información al modelo."
   ]
  },
  {
   "attachments": {},
   "cell_type": "markdown",
   "metadata": {},
   "source": [
    "### 2. **Convertir a minúsculas el texto**"
   ]
  },
  {
   "attachments": {},
   "cell_type": "markdown",
   "metadata": {},
   "source": [
    "Proceso de convertir texto en minúsculas para que el modelo no trate las mismas palabras en mayúsculas y minúsculas como diferentes."
   ]
  },
  {
   "attachments": {},
   "cell_type": "markdown",
   "metadata": {},
   "source": [
    "### 3. **Tratamiento de hashtags, menciones y links**"
   ]
  },
  {
   "attachments": {},
   "cell_type": "markdown",
   "metadata": {},
   "source": [
    "Se cambian por etiquetas las menciones, hastags y links."
   ]
  },
  {
   "attachments": {},
   "cell_type": "markdown",
   "metadata": {},
   "source": [
    "### 4. **Eliminar signos de puntuación**"
   ]
  },
  {
   "attachments": {},
   "cell_type": "markdown",
   "metadata": {},
   "source": [
    "- Los signos de puntuación no aportan información relevante al texto.\n",
    "- Al ser carácteres que no forman parte de las palabras, pueden interferir con la creación de los vectores de palabras que se utilizan en los modelos de aprendizaje automático, generando ruido o reduciendo la capacidad de generalización del modelo.\n",
    "- También, si se elimina la puntuación se reducirá el tamaño del vocabulario del modelo, lo que hará que el modelo sea más fácil de entrenar y de interpretar."
   ]
  },
  {
   "attachments": {},
   "cell_type": "markdown",
   "metadata": {},
   "source": [
    "### 5. **Eliminar carácteres especiales**"
   ]
  },
  {
   "attachments": {},
   "cell_type": "markdown",
   "metadata": {},
   "source": [
    "*Carácteres no imprimibles:* \\n, \\t, \\r, \\x0b, \\x0c \n",
    "- Son aquellos carácteres que no producen ningún caracter visible en la pantalla cuando se imprimen. \n",
    "- Pueden ser carácteres de control, espacios en blanco, caracteres de formato o caracteres especiales, como los símbolos del sistema de escritura, los caracteres de lenguas que no se escriben con el alfabeto latino, etc.\n",
    "- Es importante eliminar los caracteres no imprimibles antes de procesar o analizar el texto, ya que pueden causar problemas en la manipulación del texto y en la extracción de características importantes del mismo."
   ]
  },
  {
   "attachments": {},
   "cell_type": "markdown",
   "metadata": {},
   "source": [
    "### 6. **Eliminar tokens con números**"
   ]
  },
  {
   "attachments": {},
   "cell_type": "markdown",
   "metadata": {},
   "source": [
    "Al igual que los signos de puntuación, los números no aportan información relevante. Por lo tanto, se procede a eliminarlos.\n"
   ]
  },
  {
   "attachments": {},
   "cell_type": "markdown",
   "metadata": {},
   "source": [
    "## Preparar datos para el entrenamiento del modelo"
   ]
  },
  {
   "attachments": {},
   "cell_type": "markdown",
   "metadata": {},
   "source": [
    "### 1. **Definir parámetros y obtener vocabulario**"
   ]
  },
  {
   "attachments": {},
   "cell_type": "markdown",
   "metadata": {},
   "source": [
    "- Obtener vocabulario\n",
    "- Longitud máxima de palabras del vocabulario\n",
    "- Longitud máxima de las frases."
   ]
  },
  {
   "attachments": {},
   "cell_type": "markdown",
   "metadata": {},
   "source": [
    "### 2. **Convertir las palabras del vocabulario en números**"
   ]
  },
  {
   "cell_type": "markdown",
   "metadata": {},
   "source": [
    "En la tarea de traducción de idiomas, el modelo recibe una secuencia de texto en un idioma (entrada x) y debe producir una secuencia de texto en otro idioma (salida y). \n",
    "\n",
    "Por lo tanto, la tarea de la red neuronal es predecir la próxima palabra en la secuencia de salida (y) en función de la secuencia de entrada (x).\n",
    "\n",
    "Para preparar los datos de entrada (x), se necesita codificar las secuencias de texto en secuencias numéricas, ajustar la longitud de las secuencias numéricas y agregar relleno para que tengan la misma longitud."
   ]
  },
  {
   "attachments": {},
   "cell_type": "markdown",
   "metadata": {},
   "source": [
    "### 3. **Convertir las secuencias numéricas en una representación \"one-hot\"**"
   ]
  },
  {
   "attachments": {},
   "cell_type": "markdown",
   "metadata": {},
   "source": [
    "Se usa solo para las secuencias de salida (y) ya que se necesita una representación categórica de las palabras en el vocabulario para que el modelo pueda predecir la próxima palabra en la secuencia de salida.<br>"
   ]
  },
  {
   "cell_type": "markdown",
   "metadata": {},
   "source": [
    "### 3. **Definir modelo a entrenar**"
   ]
  },
  {
   "attachments": {},
   "cell_type": "markdown",
   "metadata": {},
   "source": [
    "Se hicieron varias pruebas con modelos recurrentes, como es el caso de LSTM y Transformers."
   ]
  },
  {
   "attachments": {},
   "cell_type": "markdown",
   "metadata": {},
   "source": [
    "### 4. **Entrenamiento del modelo**"
   ]
  },
  {
   "attachments": {},
   "cell_type": "markdown",
   "metadata": {},
   "source": [
    "Se entrenaron ambos modelo por 30 épocas, arrojando resultado diferentes"
   ]
  },
  {
   "attachments": {},
   "cell_type": "markdown",
   "metadata": {},
   "source": [
    "### 5. **Evaluación del modelo**"
   ]
  },
  {
   "attachments": {},
   "cell_type": "markdown",
   "metadata": {},
   "source": [
    "Al evaluar el modelo se observaron el error (loss) y la precisión (accuracy) del modelo en el conjunto de datos de prueba. "
   ]
  },
  {
   "cell_type": "markdown",
   "metadata": {},
   "source": [
    "### 6. **Evaluación de métricas**"
   ]
  },
  {
   "attachments": {},
   "cell_type": "markdown",
   "metadata": {},
   "source": [
    "Se calculo la métrica BLUE, la cual evalua la calidad de la traducción de texto. "
   ]
  },
  {
   "attachments": {},
   "cell_type": "markdown",
   "metadata": {},
   "source": [
    "### 7. **Conclusiones**"
   ]
  },
  {
   "attachments": {},
   "cell_type": "markdown",
   "metadata": {},
   "source": [
    "A pesar de que no se obtuvieron buenos valores en la métrica, se plantea entrenat con más datos y agregar más épocas."
   ]
  },
  {
   "cell_type": "markdown",
   "metadata": {},
   "source": []
  }
 ],
 "metadata": {
  "kernelspec": {
   "display_name": "deep_learning",
   "language": "python",
   "name": "python3"
  },
  "language_info": {
   "name": "python",
   "version": "3.9.16"
  },
  "orig_nbformat": 4
 },
 "nbformat": 4,
 "nbformat_minor": 2
}
