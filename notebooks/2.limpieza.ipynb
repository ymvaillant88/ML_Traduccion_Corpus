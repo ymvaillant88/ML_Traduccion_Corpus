{
 "cells": [
  {
   "cell_type": "code",
   "execution_count": 1,
   "metadata": {},
   "outputs": [],
   "source": [
    "# Librería para el manejo de datos\n",
    "import pandas as pd\n",
    "import numpy as np\n",
    "\n",
    "\n",
    "import re\n",
    "import unicodedata\n"
   ]
  },
  {
   "cell_type": "code",
   "execution_count": 21,
   "metadata": {},
   "outputs": [
    {
     "data": {
      "text/html": [
       "<div>\n",
       "<style scoped>\n",
       "    .dataframe tbody tr th:only-of-type {\n",
       "        vertical-align: middle;\n",
       "    }\n",
       "\n",
       "    .dataframe tbody tr th {\n",
       "        vertical-align: top;\n",
       "    }\n",
       "\n",
       "    .dataframe thead th {\n",
       "        text-align: right;\n",
       "    }\n",
       "</style>\n",
       "<table border=\"1\" class=\"dataframe\">\n",
       "  <thead>\n",
       "    <tr style=\"text-align: right;\">\n",
       "      <th></th>\n",
       "      <th>source</th>\n",
       "      <th>target</th>\n",
       "      <th>file_name</th>\n",
       "      <th>quantity_words_source</th>\n",
       "      <th>quantity_words_target</th>\n",
       "      <th>sentiment</th>\n",
       "      <th>NOUN_source</th>\n",
       "      <th>NOUN_target</th>\n",
       "      <th>ADJ_source</th>\n",
       "      <th>ADJ_target</th>\n",
       "      <th>...</th>\n",
       "      <th>VERB_source</th>\n",
       "      <th>VERB_target</th>\n",
       "      <th>VAUX_source</th>\n",
       "      <th>VAUX_target</th>\n",
       "      <th>PRON_source</th>\n",
       "      <th>PRON_target</th>\n",
       "      <th>ADP_source</th>\n",
       "      <th>ADP_target</th>\n",
       "      <th>PUNCT_source</th>\n",
       "      <th>PUNCT_target</th>\n",
       "    </tr>\n",
       "    <tr>\n",
       "      <th>id</th>\n",
       "      <th></th>\n",
       "      <th></th>\n",
       "      <th></th>\n",
       "      <th></th>\n",
       "      <th></th>\n",
       "      <th></th>\n",
       "      <th></th>\n",
       "      <th></th>\n",
       "      <th></th>\n",
       "      <th></th>\n",
       "      <th></th>\n",
       "      <th></th>\n",
       "      <th></th>\n",
       "      <th></th>\n",
       "      <th></th>\n",
       "      <th></th>\n",
       "      <th></th>\n",
       "      <th></th>\n",
       "      <th></th>\n",
       "      <th></th>\n",
       "      <th></th>\n",
       "    </tr>\n",
       "  </thead>\n",
       "  <tbody>\n",
       "    <tr>\n",
       "      <th>1</th>\n",
       "      <td>A country whose people are not even aware that...</td>\n",
       "      <td>Un país cuyo pueblo ni siquiera es consciente ...</td>\n",
       "      <td>quora_en_es</td>\n",
       "      <td>29</td>\n",
       "      <td>25</td>\n",
       "      <td>positivo</td>\n",
       "      <td>3.0</td>\n",
       "      <td>6.0</td>\n",
       "      <td>2.0</td>\n",
       "      <td>3.0</td>\n",
       "      <td>...</td>\n",
       "      <td>2.0</td>\n",
       "      <td>2.0</td>\n",
       "      <td>2.0</td>\n",
       "      <td>2.0</td>\n",
       "      <td>4.0</td>\n",
       "      <td>3.0</td>\n",
       "      <td>2.0</td>\n",
       "      <td>2.0</td>\n",
       "      <td>2.0</td>\n",
       "      <td>3.0</td>\n",
       "    </tr>\n",
       "    <tr>\n",
       "      <th>3</th>\n",
       "      <td>! Much Easier to Control the Spread.!</td>\n",
       "      <td>¡! Es mucho más fácil controlar la propagación.!</td>\n",
       "      <td>quora_en_es</td>\n",
       "      <td>7</td>\n",
       "      <td>8</td>\n",
       "      <td>positivo</td>\n",
       "      <td>0.0</td>\n",
       "      <td>1.0</td>\n",
       "      <td>1.0</td>\n",
       "      <td>1.0</td>\n",
       "      <td>...</td>\n",
       "      <td>1.0</td>\n",
       "      <td>1.0</td>\n",
       "      <td>0.0</td>\n",
       "      <td>1.0</td>\n",
       "      <td>0.0</td>\n",
       "      <td>0.0</td>\n",
       "      <td>0.0</td>\n",
       "      <td>0.0</td>\n",
       "      <td>3.0</td>\n",
       "      <td>4.0</td>\n",
       "    </tr>\n",
       "    <tr>\n",
       "      <th>4</th>\n",
       "      <td>! The Administration can of course clamp Lockd...</td>\n",
       "      <td>¡! La Administración puede, por supuesto, suje...</td>\n",
       "      <td>quora_en_es</td>\n",
       "      <td>12</td>\n",
       "      <td>13</td>\n",
       "      <td>positivo</td>\n",
       "      <td>3.0</td>\n",
       "      <td>3.0</td>\n",
       "      <td>1.0</td>\n",
       "      <td>1.0</td>\n",
       "      <td>...</td>\n",
       "      <td>1.0</td>\n",
       "      <td>1.0</td>\n",
       "      <td>1.0</td>\n",
       "      <td>1.0</td>\n",
       "      <td>1.0</td>\n",
       "      <td>0.0</td>\n",
       "      <td>2.0</td>\n",
       "      <td>2.0</td>\n",
       "      <td>2.0</td>\n",
       "      <td>5.0</td>\n",
       "    </tr>\n",
       "    <tr>\n",
       "      <th>5</th>\n",
       "      <td>!!! WE DO’NT YET KNOW, THE DEGREE IF EFFICATIO...</td>\n",
       "      <td>¡¡¡!!! NO SABEMOS TODAVÍA, EL GRADO DE EFICACIA.</td>\n",
       "      <td>quora_en_es</td>\n",
       "      <td>10</td>\n",
       "      <td>8</td>\n",
       "      <td>neutral</td>\n",
       "      <td>0.0</td>\n",
       "      <td>1.0</td>\n",
       "      <td>0.0</td>\n",
       "      <td>0.0</td>\n",
       "      <td>...</td>\n",
       "      <td>2.0</td>\n",
       "      <td>0.0</td>\n",
       "      <td>0.0</td>\n",
       "      <td>0.0</td>\n",
       "      <td>1.0</td>\n",
       "      <td>0.0</td>\n",
       "      <td>0.0</td>\n",
       "      <td>1.0</td>\n",
       "      <td>5.0</td>\n",
       "      <td>8.0</td>\n",
       "    </tr>\n",
       "    <tr>\n",
       "      <th>6</th>\n",
       "      <td>!!! You became its next victim when you entere...</td>\n",
       "      <td>¡¡¡!!! Te convertiste en su próxima víctima cu...</td>\n",
       "      <td>quora_en_es</td>\n",
       "      <td>19</td>\n",
       "      <td>19</td>\n",
       "      <td>negativo</td>\n",
       "      <td>3.0</td>\n",
       "      <td>3.0</td>\n",
       "      <td>2.0</td>\n",
       "      <td>2.0</td>\n",
       "      <td>...</td>\n",
       "      <td>3.0</td>\n",
       "      <td>3.0</td>\n",
       "      <td>1.0</td>\n",
       "      <td>0.0</td>\n",
       "      <td>5.0</td>\n",
       "      <td>4.0</td>\n",
       "      <td>0.0</td>\n",
       "      <td>2.0</td>\n",
       "      <td>4.0</td>\n",
       "      <td>7.0</td>\n",
       "    </tr>\n",
       "  </tbody>\n",
       "</table>\n",
       "<p>5 rows × 26 columns</p>\n",
       "</div>"
      ],
      "text/plain": [
       "                                               source   \n",
       "id                                                      \n",
       "1   A country whose people are not even aware that...  \\\n",
       "3               ! Much Easier to Control the Spread.!   \n",
       "4   ! The Administration can of course clamp Lockd...   \n",
       "5   !!! WE DO’NT YET KNOW, THE DEGREE IF EFFICATIO...   \n",
       "6   !!! You became its next victim when you entere...   \n",
       "\n",
       "                                               target    file_name   \n",
       "id                                                                   \n",
       "1   Un país cuyo pueblo ni siquiera es consciente ...  quora_en_es  \\\n",
       "3    ¡! Es mucho más fácil controlar la propagación.!  quora_en_es   \n",
       "4   ¡! La Administración puede, por supuesto, suje...  quora_en_es   \n",
       "5    ¡¡¡!!! NO SABEMOS TODAVÍA, EL GRADO DE EFICACIA.  quora_en_es   \n",
       "6   ¡¡¡!!! Te convertiste en su próxima víctima cu...  quora_en_es   \n",
       "\n",
       "    quantity_words_source  quantity_words_target sentiment  NOUN_source   \n",
       "id                                                                        \n",
       "1                      29                     25  positivo          3.0  \\\n",
       "3                       7                      8  positivo          0.0   \n",
       "4                      12                     13  positivo          3.0   \n",
       "5                      10                      8   neutral          0.0   \n",
       "6                      19                     19  negativo          3.0   \n",
       "\n",
       "    NOUN_target  ADJ_source  ADJ_target  ...  VERB_source  VERB_target   \n",
       "id                                       ...                             \n",
       "1           6.0         2.0         3.0  ...          2.0          2.0  \\\n",
       "3           1.0         1.0         1.0  ...          1.0          1.0   \n",
       "4           3.0         1.0         1.0  ...          1.0          1.0   \n",
       "5           1.0         0.0         0.0  ...          2.0          0.0   \n",
       "6           3.0         2.0         2.0  ...          3.0          3.0   \n",
       "\n",
       "    VAUX_source  VAUX_target  PRON_source  PRON_target  ADP_source   \n",
       "id                                                                   \n",
       "1           2.0          2.0          4.0          3.0         2.0  \\\n",
       "3           0.0          1.0          0.0          0.0         0.0   \n",
       "4           1.0          1.0          1.0          0.0         2.0   \n",
       "5           0.0          0.0          1.0          0.0         0.0   \n",
       "6           1.0          0.0          5.0          4.0         0.0   \n",
       "\n",
       "    ADP_target  PUNCT_source  PUNCT_target  \n",
       "id                                          \n",
       "1          2.0           2.0           3.0  \n",
       "3          0.0           3.0           4.0  \n",
       "4          2.0           2.0           5.0  \n",
       "5          1.0           5.0           8.0  \n",
       "6          2.0           4.0           7.0  \n",
       "\n",
       "[5 rows x 26 columns]"
      ]
     },
     "execution_count": 21,
     "metadata": {},
     "output_type": "execute_result"
    }
   ],
   "source": [
    "# Caragar datos .csv\n",
    "df = pd.read_csv('../File/df_corpus_linguistico.csv', sep='\\t', encoding='utf-8', index_col=0)\n",
    "df.head()"
   ]
  },
  {
   "attachments": {},
   "cell_type": "markdown",
   "metadata": {},
   "source": [
    "# Columnas importantes para modelar"
   ]
  },
  {
   "cell_type": "code",
   "execution_count": 22,
   "metadata": {},
   "outputs": [
    {
     "data": {
      "text/html": [
       "<div>\n",
       "<style scoped>\n",
       "    .dataframe tbody tr th:only-of-type {\n",
       "        vertical-align: middle;\n",
       "    }\n",
       "\n",
       "    .dataframe tbody tr th {\n",
       "        vertical-align: top;\n",
       "    }\n",
       "\n",
       "    .dataframe thead th {\n",
       "        text-align: right;\n",
       "    }\n",
       "</style>\n",
       "<table border=\"1\" class=\"dataframe\">\n",
       "  <thead>\n",
       "    <tr style=\"text-align: right;\">\n",
       "      <th></th>\n",
       "      <th>source</th>\n",
       "      <th>target</th>\n",
       "    </tr>\n",
       "    <tr>\n",
       "      <th>id</th>\n",
       "      <th></th>\n",
       "      <th></th>\n",
       "    </tr>\n",
       "  </thead>\n",
       "  <tbody>\n",
       "    <tr>\n",
       "      <th>1</th>\n",
       "      <td>A country whose people are not even aware that...</td>\n",
       "      <td>Un país cuyo pueblo ni siquiera es consciente ...</td>\n",
       "    </tr>\n",
       "    <tr>\n",
       "      <th>3</th>\n",
       "      <td>! Much Easier to Control the Spread.!</td>\n",
       "      <td>¡! Es mucho más fácil controlar la propagación.!</td>\n",
       "    </tr>\n",
       "    <tr>\n",
       "      <th>4</th>\n",
       "      <td>! The Administration can of course clamp Lockd...</td>\n",
       "      <td>¡! La Administración puede, por supuesto, suje...</td>\n",
       "    </tr>\n",
       "    <tr>\n",
       "      <th>5</th>\n",
       "      <td>!!! WE DO’NT YET KNOW, THE DEGREE IF EFFICATIO...</td>\n",
       "      <td>¡¡¡!!! NO SABEMOS TODAVÍA, EL GRADO DE EFICACIA.</td>\n",
       "    </tr>\n",
       "    <tr>\n",
       "      <th>6</th>\n",
       "      <td>!!! You became its next victim when you entere...</td>\n",
       "      <td>¡¡¡!!! Te convertiste en su próxima víctima cu...</td>\n",
       "    </tr>\n",
       "  </tbody>\n",
       "</table>\n",
       "</div>"
      ],
      "text/plain": [
       "                                               source   \n",
       "id                                                      \n",
       "1   A country whose people are not even aware that...  \\\n",
       "3               ! Much Easier to Control the Spread.!   \n",
       "4   ! The Administration can of course clamp Lockd...   \n",
       "5   !!! WE DO’NT YET KNOW, THE DEGREE IF EFFICATIO...   \n",
       "6   !!! You became its next victim when you entere...   \n",
       "\n",
       "                                               target  \n",
       "id                                                     \n",
       "1   Un país cuyo pueblo ni siquiera es consciente ...  \n",
       "3    ¡! Es mucho más fácil controlar la propagación.!  \n",
       "4   ¡! La Administración puede, por supuesto, suje...  \n",
       "5    ¡¡¡!!! NO SABEMOS TODAVÍA, EL GRADO DE EFICACIA.  \n",
       "6   ¡¡¡!!! Te convertiste en su próxima víctima cu...  "
      ]
     },
     "execution_count": 22,
     "metadata": {},
     "output_type": "execute_result"
    }
   ],
   "source": [
    "# Solo dejar columnas source y target\n",
    "df = df[['source', 'target']]\n",
    "df.head()"
   ]
  },
  {
   "cell_type": "code",
   "execution_count": 23,
   "metadata": {},
   "outputs": [
    {
     "data": {
      "text/plain": [
       "(10068314, 2)"
      ]
     },
     "execution_count": 23,
     "metadata": {},
     "output_type": "execute_result"
    }
   ],
   "source": [
    "df.shape"
   ]
  },
  {
   "attachments": {},
   "cell_type": "markdown",
   "metadata": {},
   "source": [
    "# Verificaciones"
   ]
  },
  {
   "cell_type": "code",
   "execution_count": 24,
   "metadata": {},
   "outputs": [
    {
     "name": "stdout",
     "output_type": "stream",
     "text": [
      "<class 'pandas.core.frame.DataFrame'>\n",
      "Index: 10068314 entries, 1 to 12148000\n",
      "Data columns (total 2 columns):\n",
      " #   Column  Dtype \n",
      "---  ------  ----- \n",
      " 0   source  object\n",
      " 1   target  object\n",
      "dtypes: object(2)\n",
      "memory usage: 230.4+ MB\n"
     ]
    }
   ],
   "source": [
    "df.info()"
   ]
  },
  {
   "attachments": {},
   "cell_type": "markdown",
   "metadata": {},
   "source": [
    "### 1. Valores nulos"
   ]
  },
  {
   "cell_type": "code",
   "execution_count": 25,
   "metadata": {},
   "outputs": [
    {
     "data": {
      "text/plain": [
       "source    0\n",
       "target    0\n",
       "dtype: int64"
      ]
     },
     "execution_count": 25,
     "metadata": {},
     "output_type": "execute_result"
    }
   ],
   "source": [
    "# Valores nulos\n",
    "\n",
    "df.isnull().sum()"
   ]
  },
  {
   "attachments": {},
   "cell_type": "markdown",
   "metadata": {},
   "source": [
    "### 2. Valores duplicados"
   ]
  },
  {
   "cell_type": "code",
   "execution_count": 26,
   "metadata": {},
   "outputs": [
    {
     "data": {
      "text/plain": [
       "0"
      ]
     },
     "execution_count": 26,
     "metadata": {},
     "output_type": "execute_result"
    }
   ],
   "source": [
    "# Verifica si existen frases duplicadas en el corpus de texto \n",
    "\n",
    "df.duplicated().sum()"
   ]
  },
  {
   "attachments": {},
   "cell_type": "markdown",
   "metadata": {},
   "source": [
    "### 3. Frases en el target escritas en inglés"
   ]
  },
  {
   "cell_type": "code",
   "execution_count": 28,
   "metadata": {},
   "outputs": [
    {
     "data": {
      "text/html": [
       "<div>\n",
       "<style scoped>\n",
       "    .dataframe tbody tr th:only-of-type {\n",
       "        vertical-align: middle;\n",
       "    }\n",
       "\n",
       "    .dataframe tbody tr th {\n",
       "        vertical-align: top;\n",
       "    }\n",
       "\n",
       "    .dataframe thead th {\n",
       "        text-align: right;\n",
       "    }\n",
       "</style>\n",
       "<table border=\"1\" class=\"dataframe\">\n",
       "  <thead>\n",
       "    <tr style=\"text-align: right;\">\n",
       "      <th></th>\n",
       "      <th>source</th>\n",
       "      <th>target</th>\n",
       "    </tr>\n",
       "    <tr>\n",
       "      <th>id</th>\n",
       "      <th></th>\n",
       "      <th></th>\n",
       "    </tr>\n",
       "  </thead>\n",
       "  <tbody>\n",
       "    <tr>\n",
       "      <th>118</th>\n",
       "      <td>#jain #jainmuni #spreadpeacelove</td>\n",
       "      <td>#jain #jainmuni #spreadpeacelove</td>\n",
       "    </tr>\n",
       "    <tr>\n",
       "      <th>123</th>\n",
       "      <td>#rbe #birdsofaustralia #mynikonlife #abcmyphot...</td>\n",
       "      <td>#rbe #birdsofaustralia #mynikonlife #abcmyphot...</td>\n",
       "    </tr>\n",
       "    <tr>\n",
       "      <th>126</th>\n",
       "      <td>#saveindia#impose national emergency#indianarmy</td>\n",
       "      <td>#saveindia#impose national emergency#indianarmy</td>\n",
       "    </tr>\n",
       "    <tr>\n",
       "      <th>130</th>\n",
       "      <td>#vitaminD #COVID-19 #coronavirus</td>\n",
       "      <td>#vitaminD #COVID-19 #coronavirus</td>\n",
       "    </tr>\n",
       "    <tr>\n",
       "      <th>138</th>\n",
       "      <td>$1200, $1400, $2800.</td>\n",
       "      <td>$1200, $1400, $2800.</td>\n",
       "    </tr>\n",
       "    <tr>\n",
       "      <th>...</th>\n",
       "      <td>...</td>\n",
       "      <td>...</td>\n",
       "    </tr>\n",
       "    <tr>\n",
       "      <th>12139929</th>\n",
       "      <td>Atypical meiosis can be adaptive in outcrossed...</td>\n",
       "      <td>Atypical meiosis can be adaptive in outcrossed...</td>\n",
       "    </tr>\n",
       "    <tr>\n",
       "      <th>12141378</th>\n",
       "      <td>Autoriserte trafikkskolers landsforbund (ATL) ...</td>\n",
       "      <td>Autoriserte trafikkskolers landsforbund (ATL) ...</td>\n",
       "    </tr>\n",
       "    <tr>\n",
       "      <th>12142130</th>\n",
       "      <td>Avomeen Analytical Services Inc.</td>\n",
       "      <td>Avomeen Analytical Services Inc.</td>\n",
       "    </tr>\n",
       "    <tr>\n",
       "      <th>12143108</th>\n",
       "      <td>Axalta Coating Systems Ltd.</td>\n",
       "      <td>Axalta Coating Systems Ltd.</td>\n",
       "    </tr>\n",
       "    <tr>\n",
       "      <th>12147154</th>\n",
       "      <td>Bayside Bowl, 58 Alder St., Portland.</td>\n",
       "      <td>Bayside Bowl, 58 Alder St., Portland.</td>\n",
       "    </tr>\n",
       "  </tbody>\n",
       "</table>\n",
       "<p>49318 rows × 2 columns</p>\n",
       "</div>"
      ],
      "text/plain": [
       "                                                     source   \n",
       "id                                                            \n",
       "118                        #jain #jainmuni #spreadpeacelove  \\\n",
       "123       #rbe #birdsofaustralia #mynikonlife #abcmyphot...   \n",
       "126         #saveindia#impose national emergency#indianarmy   \n",
       "130                        #vitaminD #COVID-19 #coronavirus   \n",
       "138                                    $1200, $1400, $2800.   \n",
       "...                                                     ...   \n",
       "12139929  Atypical meiosis can be adaptive in outcrossed...   \n",
       "12141378  Autoriserte trafikkskolers landsforbund (ATL) ...   \n",
       "12142130                   Avomeen Analytical Services Inc.   \n",
       "12143108                        Axalta Coating Systems Ltd.   \n",
       "12147154              Bayside Bowl, 58 Alder St., Portland.   \n",
       "\n",
       "                                                     target  \n",
       "id                                                           \n",
       "118                        #jain #jainmuni #spreadpeacelove  \n",
       "123       #rbe #birdsofaustralia #mynikonlife #abcmyphot...  \n",
       "126         #saveindia#impose national emergency#indianarmy  \n",
       "130                        #vitaminD #COVID-19 #coronavirus  \n",
       "138                                    $1200, $1400, $2800.  \n",
       "...                                                     ...  \n",
       "12139929  Atypical meiosis can be adaptive in outcrossed...  \n",
       "12141378  Autoriserte trafikkskolers landsforbund (ATL) ...  \n",
       "12142130                   Avomeen Analytical Services Inc.  \n",
       "12143108                        Axalta Coating Systems Ltd.  \n",
       "12147154              Bayside Bowl, 58 Alder St., Portland.  \n",
       "\n",
       "[49318 rows x 2 columns]"
      ]
     },
     "execution_count": 28,
     "metadata": {},
     "output_type": "execute_result"
    }
   ],
   "source": [
    "# Verifica si existen frases en la columna target sean igual que en la columna source.\n",
    "\n",
    "df[df.apply(lambda x: x['target'] in x['source'], axis=1)]"
   ]
  },
  {
   "attachments": {},
   "cell_type": "markdown",
   "metadata": {},
   "source": [
    "### 4. Tratamiento de hashtags y menciones"
   ]
  },
  {
   "cell_type": "code",
   "execution_count": 31,
   "metadata": {},
   "outputs": [
    {
     "name": "stdout",
     "output_type": "stream",
     "text": [
      "Hashtags en source: source\n",
      "False    10038602\n",
      "True        29712\n",
      "Name: count, dtype: int64\n",
      "-------------------------------------------------------------\n",
      "Hashtags en target: target\n",
      "False    10041773\n",
      "True        26541\n",
      "Name: count, dtype: int64\n",
      "-------------------------------------------------------------\n",
      "Menciones en source: source\n",
      "False    9716617\n",
      "True      351697\n",
      "Name: count, dtype: int64\n",
      "-------------------------------------------------------------\n",
      "Menciones en target: target\n",
      "False    9720934\n",
      "True      347380\n",
      "Name: count, dtype: int64\n",
      "-------------------------------------------------------------\n",
      "Hashtag en source: # 2 The HEALTH INDUSTRY, yes they agree .\n",
      "Hashtag en target: # 2 La INDUSTRIA DE LA SALUD, sí están de acuerdo .\n",
      "Mención en source: -Amit Singh | instahandle @amitgasm\n",
      "Mención en target: -Amit Singh | instahandle @amitgasm\n"
     ]
    }
   ],
   "source": [
    "# Verifica si no hay hashtags, menciones, etc en el texto de origen y destino \n",
    "\n",
    "print(f\"Hashtags en source: {df['source'].str.contains('#').value_counts()}\")\n",
    "\n",
    "print(\"-------------------------------------------------------------\")\n",
    "\n",
    "print(f\"Hashtags en target: {df['target'].str.contains('#').value_counts()}\")\n",
    "\n",
    "print(\"-------------------------------------------------------------\")\n",
    "\n",
    "print(f\"Menciones en source: {df['source'].str.contains('@').value_counts()}\")\n",
    "\n",
    "print(\"-------------------------------------------------------------\")\n",
    "\n",
    "print(f\"Menciones en target: {df['target'].str.contains('@').value_counts()}\")\n",
    "\n",
    "\n",
    "print(\"-------------------------------------------------------------\")\n",
    "\n",
    "# Frase con hashtag en el texto de origen y destino\n",
    "\n",
    "print(f\"Hashtag en source: {df[df['source'].str.contains('#')].iloc[0]['source']}\")\n",
    "print(f\"Hashtag en target: {df[df['target'].str.contains('#')].iloc[0]['target']}\")\n",
    "\n",
    "# Frase con mención en el texto de origen y destino\n",
    "\n",
    "print(f\"Mención en source: {df[df['source'].str.contains('@')].iloc[0]['source']}\")\n",
    "print(f\"Mención en target: {df[df['target'].str.contains('@')].iloc[0]['target']}\")"
   ]
  },
  {
   "attachments": {},
   "cell_type": "markdown",
   "metadata": {},
   "source": [
    "### 5. Tratamiento de links"
   ]
  },
  {
   "cell_type": "code",
   "execution_count": 32,
   "metadata": {},
   "outputs": [
    {
     "name": "stdout",
     "output_type": "stream",
     "text": [
      "Links en source: AZD1222 Phase-III trial [ http://AZD1222 ]: Ages 18 and up (no age limit)\n",
      "Links en target: Ensayo AZD1222 Fase-III [ http://AZD1222 ]: A partir de los 18 años (sin límite de edad)\n",
      "Links en source: Access a Zacks stock report on KFY at https://www.\n",
      "Links en target: Acceda a un informe de acciones de Zacks en KFY en https: // www.\n",
      "Links en source: All of the above wordage and terms are extracted (as a synopsis) from the listed article: www.eurkalert.org/pub_releases/2020–04/uoc.cgn040820.php .\n",
      "Links en target: Todas las palabras y los términos anteriores se han extraído (a modo de sinopsis) del artículo mencionado: www.eurkalert.org/pub_releases/2020-04/uoc.cgn040820.php .\n"
     ]
    }
   ],
   "source": [
    "# Frases con links en el texto de origen y destino \n",
    "\n",
    "print(f\"Links en source: {df[df['source'].str.contains('http')].iloc[0]['source']}\")\n",
    "print(f\"Links en target: {df[df['target'].str.contains('http')].iloc[0]['target']}\")\n",
    "print(f\"Links en source: {df[df['source'].str.contains('https')].iloc[1]['source']}\")\n",
    "print(f\"Links en target: {df[df['target'].str.contains('https')].iloc[1]['target']}\")\n",
    "print(f\"Links en source: {df[df['source'].str.contains('www')].iloc[2]['source']}\")\n",
    "print(f\"Links en target: {df[df['target'].str.contains('www')].iloc[2]['target']}\")"
   ]
  },
  {
   "attachments": {},
   "cell_type": "markdown",
   "metadata": {},
   "source": [
    "### 6. Verificar presencia de números en las frases"
   ]
  },
  {
   "cell_type": "code",
   "execution_count": 33,
   "metadata": {},
   "outputs": [
    {
     "data": {
      "text/html": [
       "<div>\n",
       "<style scoped>\n",
       "    .dataframe tbody tr th:only-of-type {\n",
       "        vertical-align: middle;\n",
       "    }\n",
       "\n",
       "    .dataframe tbody tr th {\n",
       "        vertical-align: top;\n",
       "    }\n",
       "\n",
       "    .dataframe thead th {\n",
       "        text-align: right;\n",
       "    }\n",
       "</style>\n",
       "<table border=\"1\" class=\"dataframe\">\n",
       "  <thead>\n",
       "    <tr style=\"text-align: right;\">\n",
       "      <th></th>\n",
       "      <th>source</th>\n",
       "      <th>target</th>\n",
       "    </tr>\n",
       "    <tr>\n",
       "      <th>id</th>\n",
       "      <th></th>\n",
       "      <th></th>\n",
       "    </tr>\n",
       "  </thead>\n",
       "  <tbody>\n",
       "    <tr>\n",
       "      <th>14</th>\n",
       "      <td>!32 countries with new cases and deaths, shoul...</td>\n",
       "      <td>Los 32 países con nuevos casos y muertes, debe...</td>\n",
       "    </tr>\n",
       "    <tr>\n",
       "      <th>16</th>\n",
       "      <td>«1941 - lessons and conclusions».</td>\n",
       "      <td>'1941 - lecciones y conclusiones\".</td>\n",
       "    </tr>\n",
       "    <tr>\n",
       "      <th>17</th>\n",
       "      <td>«1941: Battles on the Baltic 22 June - 10 July...</td>\n",
       "      <td>'1941: Batallas en el Báltico 22 de junio - 10...</td>\n",
       "    </tr>\n",
       "    <tr>\n",
       "      <th>18</th>\n",
       "      <td>«50 years of the armed forces of the USSR».</td>\n",
       "      <td>'50 años de las fuerzas armadas de la URSS\".</td>\n",
       "    </tr>\n",
       "    <tr>\n",
       "      <th>20</th>\n",
       "      <td>«Combat and numerical composition of the armed...</td>\n",
       "      <td>'Combate y composición numérica de las fuerzas...</td>\n",
       "    </tr>\n",
       "    <tr>\n",
       "      <th>...</th>\n",
       "      <td>...</td>\n",
       "      <td>...</td>\n",
       "    </tr>\n",
       "    <tr>\n",
       "      <th>12147876</th>\n",
       "      <td>Because he has only been in parliament since 2...</td>\n",
       "      <td>Porque solo lleva en el parlamento desde 2015,...</td>\n",
       "    </tr>\n",
       "    <tr>\n",
       "      <th>12147880</th>\n",
       "      <td>Because he is a juvenile, the name of the 17-y...</td>\n",
       "      <td>Porque es menor de edad, no se dio el nombre d...</td>\n",
       "    </tr>\n",
       "    <tr>\n",
       "      <th>12147886</th>\n",
       "      <td>Because he played in fewer than four games, he...</td>\n",
       "      <td>Debido a que jugó en menos de cuatro partidos,...</td>\n",
       "    </tr>\n",
       "    <tr>\n",
       "      <th>12147896</th>\n",
       "      <td>Because he separated wives from their husbands...</td>\n",
       "      <td>Porque separó a las esposas de sus maridos y a...</td>\n",
       "    </tr>\n",
       "    <tr>\n",
       "      <th>12147950</th>\n",
       "      <td>“Because if I miss it, it’s still a 3-point ga...</td>\n",
       "      <td>'Porque si fallo, sigue siendo un partido de 3...</td>\n",
       "    </tr>\n",
       "  </tbody>\n",
       "</table>\n",
       "<p>1371593 rows × 2 columns</p>\n",
       "</div>"
      ],
      "text/plain": [
       "                                                     source   \n",
       "id                                                            \n",
       "14        !32 countries with new cases and deaths, shoul...  \\\n",
       "16                        «1941 - lessons and conclusions».   \n",
       "17        «1941: Battles on the Baltic 22 June - 10 July...   \n",
       "18              «50 years of the armed forces of the USSR».   \n",
       "20        «Combat and numerical composition of the armed...   \n",
       "...                                                     ...   \n",
       "12147876  Because he has only been in parliament since 2...   \n",
       "12147880  Because he is a juvenile, the name of the 17-y...   \n",
       "12147886  Because he played in fewer than four games, he...   \n",
       "12147896  Because he separated wives from their husbands...   \n",
       "12147950  “Because if I miss it, it’s still a 3-point ga...   \n",
       "\n",
       "                                                     target  \n",
       "id                                                           \n",
       "14        Los 32 países con nuevos casos y muertes, debe...  \n",
       "16                       '1941 - lecciones y conclusiones\".  \n",
       "17        '1941: Batallas en el Báltico 22 de junio - 10...  \n",
       "18             '50 años de las fuerzas armadas de la URSS\".  \n",
       "20        'Combate y composición numérica de las fuerzas...  \n",
       "...                                                     ...  \n",
       "12147876  Porque solo lleva en el parlamento desde 2015,...  \n",
       "12147880  Porque es menor de edad, no se dio el nombre d...  \n",
       "12147886  Debido a que jugó en menos de cuatro partidos,...  \n",
       "12147896  Porque separó a las esposas de sus maridos y a...  \n",
       "12147950  'Porque si fallo, sigue siendo un partido de 3...  \n",
       "\n",
       "[1371593 rows x 2 columns]"
      ]
     },
     "execution_count": 33,
     "metadata": {},
     "output_type": "execute_result"
    }
   ],
   "source": [
    "df[df['source'].apply(lambda x: any([token.isdigit() for token in x]))]"
   ]
  },
  {
   "attachments": {},
   "cell_type": "markdown",
   "metadata": {},
   "source": [
    "### 7. Verificar presencia de caracteres especiales en las frases"
   ]
  },
  {
   "cell_type": "code",
   "execution_count": 35,
   "metadata": {},
   "outputs": [
    {
     "name": "stdout",
     "output_type": "stream",
     "text": [
      "Caracteres especiales en source: source\n",
      "True    10068314\n",
      "Name: count, dtype: int64\n",
      "-------------------------------------------------------------\n",
      "Caracteres especiales en target: target\n",
      "True     10065962\n",
      "False        2352\n",
      "Name: count, dtype: int64\n"
     ]
    }
   ],
   "source": [
    "# Verifica si existen caracteres especiales en el texto de origen y destino\n",
    "\n",
    "print(f\"Caracteres especiales en source: {df['source'].str.contains('[^a-zA-Z.!?]').value_counts()}\")\n",
    "\n",
    "print(\"-------------------------------------------------------------\")\n",
    "\n",
    "print(f\"Caracteres especiales en target: {df['target'].str.contains('[^a-zA-Z.!?]').value_counts()}\")"
   ]
  },
  {
   "attachments": {},
   "cell_type": "markdown",
   "metadata": {},
   "source": [
    "## **Eliminar frases que sean iguales en inglés como en español**"
   ]
  },
  {
   "cell_type": "code",
   "execution_count": 36,
   "metadata": {},
   "outputs": [
    {
     "data": {
      "text/plain": [
       "(8876079, 2)"
      ]
     },
     "execution_count": 36,
     "metadata": {},
     "output_type": "execute_result"
    }
   ],
   "source": [
    "# Eliminar frases donde al menos tenga 3 palabfras iguales en source y target\n",
    "\n",
    "df = df[df.apply(lambda x: len(set(x['source'].split()) & set(x['target'].split())) < 3, axis=1)]       \n",
    "\n",
    "df.shape"
   ]
  },
  {
   "attachments": {},
   "cell_type": "markdown",
   "metadata": {},
   "source": [
    "Solo entrenaremos el modelo con una parte del dataset"
   ]
  },
  {
   "cell_type": "code",
   "execution_count": 37,
   "metadata": {},
   "outputs": [
    {
     "data": {
      "text/plain": [
       "(100000, 2)"
      ]
     },
     "execution_count": 37,
     "metadata": {},
     "output_type": "execute_result"
    }
   ],
   "source": [
    "# Obtiene dataset de 10 000 registros\n",
    "df = df.sample(n=100000, random_state=1)\n",
    "df.shape"
   ]
  },
  {
   "cell_type": "code",
   "execution_count": 38,
   "metadata": {},
   "outputs": [
    {
     "data": {
      "text/html": [
       "<div>\n",
       "<style scoped>\n",
       "    .dataframe tbody tr th:only-of-type {\n",
       "        vertical-align: middle;\n",
       "    }\n",
       "\n",
       "    .dataframe tbody tr th {\n",
       "        vertical-align: top;\n",
       "    }\n",
       "\n",
       "    .dataframe thead th {\n",
       "        text-align: right;\n",
       "    }\n",
       "</style>\n",
       "<table border=\"1\" class=\"dataframe\">\n",
       "  <thead>\n",
       "    <tr style=\"text-align: right;\">\n",
       "      <th></th>\n",
       "      <th>source</th>\n",
       "      <th>target</th>\n",
       "    </tr>\n",
       "    <tr>\n",
       "      <th>id</th>\n",
       "      <th></th>\n",
       "      <th></th>\n",
       "    </tr>\n",
       "  </thead>\n",
       "  <tbody>\n",
       "    <tr>\n",
       "      <th>10151431</th>\n",
       "      <td>I always say that one of the most important th...</td>\n",
       "      <td>Siempre digo que una de las cosas más importan...</td>\n",
       "    </tr>\n",
       "    <tr>\n",
       "      <th>5014881</th>\n",
       "      <td>Francis spent every night when he was outside ...</td>\n",
       "      <td>Francisco pasó todas las noches que estuvo fue...</td>\n",
       "    </tr>\n",
       "    <tr>\n",
       "      <th>9998244</th>\n",
       "      <td>Find Google- remove your Gmail account.</td>\n",
       "      <td>Encontrar Google- eliminar su cuenta de Gmail.</td>\n",
       "    </tr>\n",
       "    <tr>\n",
       "      <th>11709695</th>\n",
       "      <td>Anyways, apart from that the movie was finalized.</td>\n",
       "      <td>De todos modos, aparte de eso, la película fue...</td>\n",
       "    </tr>\n",
       "    <tr>\n",
       "      <th>5267593</th>\n",
       "      <td>Graphics Programming Black Book and the mindse...</td>\n",
       "      <td>El Libro Negro de la Programación Gráfica y la...</td>\n",
       "    </tr>\n",
       "  </tbody>\n",
       "</table>\n",
       "</div>"
      ],
      "text/plain": [
       "                                                     source   \n",
       "id                                                            \n",
       "10151431  I always say that one of the most important th...  \\\n",
       "5014881   Francis spent every night when he was outside ...   \n",
       "9998244             Find Google- remove your Gmail account.   \n",
       "11709695  Anyways, apart from that the movie was finalized.   \n",
       "5267593   Graphics Programming Black Book and the mindse...   \n",
       "\n",
       "                                                     target  \n",
       "id                                                           \n",
       "10151431  Siempre digo que una de las cosas más importan...  \n",
       "5014881   Francisco pasó todas las noches que estuvo fue...  \n",
       "9998244      Encontrar Google- eliminar su cuenta de Gmail.  \n",
       "11709695  De todos modos, aparte de eso, la película fue...  \n",
       "5267593   El Libro Negro de la Programación Gráfica y la...  "
      ]
     },
     "execution_count": 38,
     "metadata": {},
     "output_type": "execute_result"
    }
   ],
   "source": [
    "df.head()"
   ]
  },
  {
   "attachments": {},
   "cell_type": "markdown",
   "metadata": {},
   "source": [
    "## Funciones de limpieza de datos"
   ]
  },
  {
   "cell_type": "code",
   "execution_count": 39,
   "metadata": {},
   "outputs": [],
   "source": [
    "def unicode_to_ascii(s):\n",
    "    return ''.join(\n",
    "        c for c in unicodedata.normalize('NFD', s)      # Normaliza el texto, separando los acentos de las letras\n",
    "        if unicodedata.category(c) != 'Mn')   "
   ]
  },
  {
   "cell_type": "code",
   "execution_count": 40,
   "metadata": {},
   "outputs": [],
   "source": [
    "def preprocess_sentence(s):\n",
    "    s = unicode_to_ascii(s.lower())                 # Convierte a minúsculas y elimina acentos\n",
    "    s = re.sub(r'@\\w+', '<user>', s)                # Reemplaza @username por <user>\n",
    "    s = re.sub(r'#\\w+', '<hashtags>', s)            # Reemplaza #hashtag por <hashtags>\n",
    "    s = re.sub(r'http\\S+', '<url>', s)              # Reemplaza las urls por <url>\n",
    "    s = re.sub(r'https\\S+', '<url>', s)         \n",
    "    s = re.sub(r'www\\S+', '<url>', s)\n",
    "    s = re.sub(r'([!.?])', r' \\1', s)               # Adiciona espacio antes de !, ., ? \n",
    "    s = re.sub(r'[^a-zA-Z.!?]+', r' ', s)           # Elimina caracteres especiales y números\n",
    "    s = re.sub(r'\\s+', r' ', s)                     # Elimina espacios en blanco\n",
    "\n",
    "    s = s.strip()                                   # Elimina espacios en blanco al inicio y al final          \n",
    "    s = '<start>' + ' ' + s + ' ' + ' <end>'        # Agrega <start> y <end> a la oración\n",
    "    return s  "
   ]
  },
  {
   "attachments": {},
   "cell_type": "markdown",
   "metadata": {},
   "source": [
    "### Aplicar función de limpieza al dataset"
   ]
  },
  {
   "cell_type": "code",
   "execution_count": 41,
   "metadata": {},
   "outputs": [],
   "source": [
    "# Columna source del dataframe\n",
    "\n",
    "df['preprocess_source'] = df['source'].apply(preprocess_sentence)"
   ]
  },
  {
   "cell_type": "code",
   "execution_count": 42,
   "metadata": {},
   "outputs": [],
   "source": [
    "def preprocess_sentence_s(s):\n",
    "    s = unicode_to_ascii(s.lower())                 # Convierte a minúsculas y elimina acentos\n",
    "    s = re.sub(r'@\\w+', '<usuario>', s)                # Reemplaza @username por <user>\n",
    "    s = re.sub(r'#\\w+', '<hashtags>', s)            # Reemplaza #hashtag por <hashtags>\n",
    "    s = re.sub(r'http\\S+', '<url>', s)\n",
    "    s = re.sub(r'https\\S+', '<url>', s)\n",
    "    s = re.sub(r'www\\S+', '<url>', s)\n",
    "    s = re.sub(r'([!.?])', r' \\1', s)               # Adiciona espacio antes de !, ., ? \n",
    "    s = re.sub(r'[^a-zA-Z.!?]+', r' ', s)           # Elimina caracteres especiales y números\n",
    "    s = re.sub(r'\\s+', r' ', s)                     # Elimina espacios en blanco\n",
    "\n",
    "    s = s.strip()                                   # Elimina espacios en blanco al inicio y al final          \n",
    "    s = '<start>' + ' ' + s + ' ' + ' <end>'        # Agrega <start> y <end> a la oración\n",
    "    return s  "
   ]
  },
  {
   "cell_type": "code",
   "execution_count": 44,
   "metadata": {},
   "outputs": [],
   "source": [
    "# Aplicar la función preprocess_sentence a la columna source del dataframe\n",
    "df['preprocess_target'] = df['target'].apply(preprocess_sentence_s)"
   ]
  },
  {
   "cell_type": "code",
   "execution_count": 45,
   "metadata": {},
   "outputs": [
    {
     "data": {
      "text/html": [
       "<div>\n",
       "<style scoped>\n",
       "    .dataframe tbody tr th:only-of-type {\n",
       "        vertical-align: middle;\n",
       "    }\n",
       "\n",
       "    .dataframe tbody tr th {\n",
       "        vertical-align: top;\n",
       "    }\n",
       "\n",
       "    .dataframe thead th {\n",
       "        text-align: right;\n",
       "    }\n",
       "</style>\n",
       "<table border=\"1\" class=\"dataframe\">\n",
       "  <thead>\n",
       "    <tr style=\"text-align: right;\">\n",
       "      <th></th>\n",
       "      <th>source</th>\n",
       "      <th>target</th>\n",
       "      <th>preprocess_source</th>\n",
       "      <th>preprocess_target</th>\n",
       "    </tr>\n",
       "    <tr>\n",
       "      <th>id</th>\n",
       "      <th></th>\n",
       "      <th></th>\n",
       "      <th></th>\n",
       "      <th></th>\n",
       "    </tr>\n",
       "  </thead>\n",
       "  <tbody>\n",
       "    <tr>\n",
       "      <th>10151431</th>\n",
       "      <td>I always say that one of the most important th...</td>\n",
       "      <td>Siempre digo que una de las cosas más importan...</td>\n",
       "      <td>&lt;start&gt; i always say that one of the most impo...</td>\n",
       "      <td>&lt;start&gt; siempre digo que una de las cosas mas ...</td>\n",
       "    </tr>\n",
       "    <tr>\n",
       "      <th>5014881</th>\n",
       "      <td>Francis spent every night when he was outside ...</td>\n",
       "      <td>Francisco pasó todas las noches que estuvo fue...</td>\n",
       "      <td>&lt;start&gt; francis spent every night when he was ...</td>\n",
       "      <td>&lt;start&gt; francisco paso todas las noches que es...</td>\n",
       "    </tr>\n",
       "    <tr>\n",
       "      <th>9998244</th>\n",
       "      <td>Find Google- remove your Gmail account.</td>\n",
       "      <td>Encontrar Google- eliminar su cuenta de Gmail.</td>\n",
       "      <td>&lt;start&gt; find google remove your gmail account ...</td>\n",
       "      <td>&lt;start&gt; encontrar google eliminar su cuenta de...</td>\n",
       "    </tr>\n",
       "    <tr>\n",
       "      <th>11709695</th>\n",
       "      <td>Anyways, apart from that the movie was finalized.</td>\n",
       "      <td>De todos modos, aparte de eso, la película fue...</td>\n",
       "      <td>&lt;start&gt; anyways apart from that the movie was ...</td>\n",
       "      <td>&lt;start&gt; de todos modos aparte de eso la pelicu...</td>\n",
       "    </tr>\n",
       "    <tr>\n",
       "      <th>5267593</th>\n",
       "      <td>Graphics Programming Black Book and the mindse...</td>\n",
       "      <td>El Libro Negro de la Programación Gráfica y la...</td>\n",
       "      <td>&lt;start&gt; graphics programming black book and th...</td>\n",
       "      <td>&lt;start&gt; el libro negro de la programacion graf...</td>\n",
       "    </tr>\n",
       "  </tbody>\n",
       "</table>\n",
       "</div>"
      ],
      "text/plain": [
       "                                                     source   \n",
       "id                                                            \n",
       "10151431  I always say that one of the most important th...  \\\n",
       "5014881   Francis spent every night when he was outside ...   \n",
       "9998244             Find Google- remove your Gmail account.   \n",
       "11709695  Anyways, apart from that the movie was finalized.   \n",
       "5267593   Graphics Programming Black Book and the mindse...   \n",
       "\n",
       "                                                     target   \n",
       "id                                                            \n",
       "10151431  Siempre digo que una de las cosas más importan...  \\\n",
       "5014881   Francisco pasó todas las noches que estuvo fue...   \n",
       "9998244      Encontrar Google- eliminar su cuenta de Gmail.   \n",
       "11709695  De todos modos, aparte de eso, la película fue...   \n",
       "5267593   El Libro Negro de la Programación Gráfica y la...   \n",
       "\n",
       "                                          preprocess_source   \n",
       "id                                                            \n",
       "10151431  <start> i always say that one of the most impo...  \\\n",
       "5014881   <start> francis spent every night when he was ...   \n",
       "9998244   <start> find google remove your gmail account ...   \n",
       "11709695  <start> anyways apart from that the movie was ...   \n",
       "5267593   <start> graphics programming black book and th...   \n",
       "\n",
       "                                          preprocess_target  \n",
       "id                                                           \n",
       "10151431  <start> siempre digo que una de las cosas mas ...  \n",
       "5014881   <start> francisco paso todas las noches que es...  \n",
       "9998244   <start> encontrar google eliminar su cuenta de...  \n",
       "11709695  <start> de todos modos aparte de eso la pelicu...  \n",
       "5267593   <start> el libro negro de la programacion graf...  "
      ]
     },
     "execution_count": 45,
     "metadata": {},
     "output_type": "execute_result"
    }
   ],
   "source": [
    "df.head()"
   ]
  },
  {
   "cell_type": "code",
   "execution_count": 38,
   "metadata": {},
   "outputs": [],
   "source": [
    "# Guardar el dataframe en un archivo .csv\n",
    "df.to_csv('../File/df_corpus_linguistico_preprocesado.csv', sep='\\t', encoding='utf-8')"
   ]
  }
 ],
 "metadata": {
  "kernelspec": {
   "display_name": "deep_learning",
   "language": "python",
   "name": "python3"
  },
  "language_info": {
   "codemirror_mode": {
    "name": "ipython",
    "version": 3
   },
   "file_extension": ".py",
   "mimetype": "text/x-python",
   "name": "python",
   "nbconvert_exporter": "python",
   "pygments_lexer": "ipython3",
   "version": "3.9.16"
  },
  "orig_nbformat": 4
 },
 "nbformat": 4,
 "nbformat_minor": 2
}
